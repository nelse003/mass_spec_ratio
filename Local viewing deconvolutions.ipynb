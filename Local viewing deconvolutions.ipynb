{
 "cells": [
  {
   "cell_type": "code",
   "execution_count": 31,
   "metadata": {},
   "outputs": [],
   "source": [
    "%matplotlib inline\n",
    "\n",
    "import matplotlib\n",
    "import numpy as np\n",
    "import pandas as pd\n",
    "import matplotlib.pyplot as plt\n",
    "from scipy.signal import find_peaks"
   ]
  },
  {
   "cell_type": "code",
   "execution_count": 32,
   "metadata": {},
   "outputs": [],
   "source": [
    "df = pd.read_csv(\"/hdlocal/enelson/mass_spec_ratio/NUDT7_Data/190218_NUDT7A_p026/NUDT7A_p026_NU0000308a_30min_16ul.CSV\", header=1)"
   ]
  },
  {
   "cell_type": "code",
   "execution_count": 36,
   "metadata": {
    "collapsed": true
   },
   "outputs": [
    {
     "data": {
      "text/plain": [
       "<matplotlib.axes._subplots.AxesSubplot at 0x7f0a7b9a0160>"
      ]
     },
     "execution_count": 36,
     "metadata": {},
     "output_type": "execute_result"
    },
    {
     "data": {
      "image/png": "[encoded data removed]",
      "text/plain": [
       "<Figure size 432x288 with 1 Axes>"
      ]
     },
     "metadata": {
      "needs_background": "light"
     },
     "output_type": "display_data"
    }
   ],
   "source": [
    "\n",
    "df.plot(x=\"X(Daltons)\",y=\"Y(Counts)\",kind=\"line\",xlim=(25400, 25600),legend=False)"
   ]
  },
  {
   "cell_type": "code",
   "execution_count": 39,
   "metadata": {},
   "outputs": [],
   "source": [
    "peaks, _ = find_peaks(df[\"Y(Counts)\"], height=10000, distance=5)\n",
    "peaks_df = df.loc[peaks]"
   ]
  },
  {
   "cell_type": "code",
   "execution_count": 41,
   "metadata": {},
   "outputs": [
    {
     "data": {
      "text/html": [
       "<div>\n",
       "<style scoped>\n",
       "    .dataframe tbody tr th:only-of-type {\n",
       "        vertical-align: middle;\n",
       "    }\n",
       "\n",
       "    .dataframe tbody tr th {\n",
       "        vertical-align: top;\n",
       "    }\n",
       "\n",
       "    .dataframe thead th {\n",
       "        text-align: right;\n",
       "    }\n",
       "</style>\n",
       "<table border=\"1\" class=\"dataframe\">\n",
       "  <thead>\n",
       "    <tr style=\"text-align: right;\">\n",
       "      <th></th>\n",
       "      <th>#Point</th>\n",
       "      <th>X(Daltons)</th>\n",
       "      <th>Y(Counts)</th>\n",
       "    </tr>\n",
       "  </thead>\n",
       "  <tbody>\n",
       "    <tr>\n",
       "      <th>2740</th>\n",
       "      <td>2740</td>\n",
       "      <td>12740.0</td>\n",
       "      <td>11793.077148</td>\n",
       "    </tr>\n",
       "    <tr>\n",
       "      <th>15479</th>\n",
       "      <td>15479</td>\n",
       "      <td>25479.0</td>\n",
       "      <td>575554.687500</td>\n",
       "    </tr>\n",
       "    <tr>\n",
       "      <th>15501</th>\n",
       "      <td>15501</td>\n",
       "      <td>25501.0</td>\n",
       "      <td>230322.093750</td>\n",
       "    </tr>\n",
       "    <tr>\n",
       "      <th>15521</th>\n",
       "      <td>15521</td>\n",
       "      <td>25521.0</td>\n",
       "      <td>128822.656250</td>\n",
       "    </tr>\n",
       "    <tr>\n",
       "      <th>15542</th>\n",
       "      <td>15542</td>\n",
       "      <td>25542.0</td>\n",
       "      <td>81428.101562</td>\n",
       "    </tr>\n",
       "    <tr>\n",
       "      <th>15564</th>\n",
       "      <td>15564</td>\n",
       "      <td>25564.0</td>\n",
       "      <td>58542.007812</td>\n",
       "    </tr>\n",
       "    <tr>\n",
       "      <th>15584</th>\n",
       "      <td>15584</td>\n",
       "      <td>25584.0</td>\n",
       "      <td>38690.152344</td>\n",
       "    </tr>\n",
       "    <tr>\n",
       "      <th>15605</th>\n",
       "      <td>15605</td>\n",
       "      <td>25605.0</td>\n",
       "      <td>22137.804688</td>\n",
       "    </tr>\n",
       "    <tr>\n",
       "      <th>15625</th>\n",
       "      <td>15625</td>\n",
       "      <td>25625.0</td>\n",
       "      <td>21855.779297</td>\n",
       "    </tr>\n",
       "    <tr>\n",
       "      <th>15641</th>\n",
       "      <td>15641</td>\n",
       "      <td>25641.0</td>\n",
       "      <td>11282.072266</td>\n",
       "    </tr>\n",
       "    <tr>\n",
       "      <th>15746</th>\n",
       "      <td>15746</td>\n",
       "      <td>25746.0</td>\n",
       "      <td>27046.929688</td>\n",
       "    </tr>\n",
       "    <tr>\n",
       "      <th>15770</th>\n",
       "      <td>15770</td>\n",
       "      <td>25770.0</td>\n",
       "      <td>10921.014648</td>\n",
       "    </tr>\n",
       "    <tr>\n",
       "      <th>15791</th>\n",
       "      <td>15791</td>\n",
       "      <td>25791.0</td>\n",
       "      <td>24440.121094</td>\n",
       "    </tr>\n",
       "    <tr>\n",
       "      <th>15808</th>\n",
       "      <td>15808</td>\n",
       "      <td>25808.0</td>\n",
       "      <td>11517.443359</td>\n",
       "    </tr>\n",
       "    <tr>\n",
       "      <th>15818</th>\n",
       "      <td>15818</td>\n",
       "      <td>25818.0</td>\n",
       "      <td>14720.592773</td>\n",
       "    </tr>\n",
       "    <tr>\n",
       "      <th>15833</th>\n",
       "      <td>15833</td>\n",
       "      <td>25833.0</td>\n",
       "      <td>17380.916016</td>\n",
       "    </tr>\n",
       "    <tr>\n",
       "      <th>16991</th>\n",
       "      <td>16991</td>\n",
       "      <td>26991.0</td>\n",
       "      <td>30444.927734</td>\n",
       "    </tr>\n",
       "    <tr>\n",
       "      <th>17128</th>\n",
       "      <td>17128</td>\n",
       "      <td>27128.0</td>\n",
       "      <td>12172.971680</td>\n",
       "    </tr>\n",
       "    <tr>\n",
       "      <th>17945</th>\n",
       "      <td>17945</td>\n",
       "      <td>27945.0</td>\n",
       "      <td>21439.193359</td>\n",
       "    </tr>\n",
       "  </tbody>\n",
       "</table>\n",
       "</div>"
      ],
      "text/plain": [
       "       #Point  X(Daltons)      Y(Counts)\n",
       "2740     2740     12740.0   11793.077148\n",
       "15479   15479     25479.0  575554.687500\n",
       "15501   15501     25501.0  230322.093750\n",
       "15521   15521     25521.0  128822.656250\n",
       "15542   15542     25542.0   81428.101562\n",
       "15564   15564     25564.0   58542.007812\n",
       "15584   15584     25584.0   38690.152344\n",
       "15605   15605     25605.0   22137.804688\n",
       "15625   15625     25625.0   21855.779297\n",
       "15641   15641     25641.0   11282.072266\n",
       "15746   15746     25746.0   27046.929688\n",
       "15770   15770     25770.0   10921.014648\n",
       "15791   15791     25791.0   24440.121094\n",
       "15808   15808     25808.0   11517.443359\n",
       "15818   15818     25818.0   14720.592773\n",
       "15833   15833     25833.0   17380.916016\n",
       "16991   16991     26991.0   30444.927734\n",
       "17128   17128     27128.0   12172.971680\n",
       "17945   17945     27945.0   21439.193359"
      ]
     },
     "execution_count": 41,
     "metadata": {},
     "output_type": "execute_result"
    }
   ],
   "source": [
    "peaks_df"
   ]
  },
  {
   "cell_type": "code",
   "execution_count": null,
   "metadata": {},
   "outputs": [],
   "source": []
  }
 ],
 "metadata": {
  "kernelspec": {
   "display_name": "Python 3",
   "language": "python",
   "name": "python3"
  },
  "language_info": {
   "codemirror_mode": {
    "name": "ipython",
    "version": 3
   },
   "file_extension": ".py",
   "mimetype": "text/x-python",
   "name": "python",
   "nbconvert_exporter": "python",
   "pygments_lexer": "ipython3",
   "version": "3.6.7"
  }
 },
 "nbformat": 4,
 "nbformat_minor": 2
}
