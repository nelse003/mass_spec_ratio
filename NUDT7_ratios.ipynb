{
 "cells": [
  {
   "cell_type": "markdown",
   "metadata": {
    "collapsed": true
   },
   "source": [
    "## Explorign Mass Spectroscopy Deconvolution Data"
   ]
  },
  {
   "cell_type": "code",
   "execution_count": 1,
   "metadata": {},
   "outputs": [],
   "source": [
    "%load_ext autoreload\n",
    "%autoreload 2"
   ]
  },
  {
   "cell_type": "code",
   "execution_count": 1,
   "metadata": {},
   "outputs": [],
   "source": [
    "import os\n",
    "import numpy as np\n",
    "import pandas as pd\n",
    "import re\n",
    "\n",
    "from NUDT7_ratios import read_grouped_csv\n",
    "from NUDT7_ratios import remove_dataset_by_filename_content\n",
    "#from NUDT7_ratios import check_signal_to_noise\n",
    "from NUDT7_ratios import get_ratios_of_expected_peaks\n",
    "from NUDT7_ratios import pre_crystal_plot\n",
    "from NUDT7_ratios import post_crystal_plot\n",
    "from NUDT7_ratios import string_contains\n",
    "from NUDT7_ratios import post_crystal_calibrated_plot\n",
    "from NUDT7_ratios import peak_height_outside_of_interest\n",
    "\n",
    "from io import StringIO\n",
    "from scipy.signal import find_peaks\n",
    "\n",
    "%matplotlib inline\n",
    "import matplotlib.pyplot as plt\n",
    "plt.rcParams['figure.figsize'] = [10, 10]"
   ]
  },
  {
   "cell_type": "code",
   "execution_count": 5,
   "metadata": {},
   "outputs": [
    {
     "name": "stderr",
     "output_type": "stream",
     "text": [
      "/hdlocal/enelson/mass_spec_ratio/NUDT7_ratios.py:57: FutureWarning: split() requires a non-empty pattern match.\n",
      "  split_data = header_re.split(data)\n"
     ]
    },
    {
     "ename": "IsADirectoryError",
     "evalue": "[Errno 21] Is a directory: '/hdlocal/enelson/mass_spec_ratio/NUDT7_Data/NUDT7A_Post_diffraction_crystal_mass_spectra_apr_14_16_2019'",
     "output_type": "error",
     "traceback": [
      "\u001b[0;31m---------------------------------------------------------------------------\u001b[0m",
      "\u001b[0;31mIsADirectoryError\u001b[0m                         Traceback (most recent call last)",
      "\u001b[0;32m<ipython-input-5-da89c928225d>\u001b[0m in \u001b[0;36m<module>\u001b[0;34m()\u001b[0m\n\u001b[1;32m      5\u001b[0m \u001b[0;32mfor\u001b[0m \u001b[0mcsv\u001b[0m \u001b[0;32min\u001b[0m \u001b[0mos\u001b[0m\u001b[0;34m.\u001b[0m\u001b[0mlistdir\u001b[0m\u001b[0;34m(\u001b[0m\u001b[0mdata_dir\u001b[0m\u001b[0;34m)\u001b[0m\u001b[0;34m:\u001b[0m\u001b[0;34m\u001b[0m\u001b[0;34m\u001b[0m\u001b[0m\n\u001b[1;32m      6\u001b[0m     \u001b[0mcsv\u001b[0m \u001b[0;34m=\u001b[0m \u001b[0mos\u001b[0m\u001b[0;34m.\u001b[0m\u001b[0mpath\u001b[0m\u001b[0;34m.\u001b[0m\u001b[0mjoin\u001b[0m\u001b[0;34m(\u001b[0m\u001b[0mdata_dir\u001b[0m\u001b[0;34m,\u001b[0m \u001b[0mcsv\u001b[0m\u001b[0;34m)\u001b[0m\u001b[0;34m\u001b[0m\u001b[0;34m\u001b[0m\u001b[0m\n\u001b[0;32m----> 7\u001b[0;31m     \u001b[0mdf_dict\u001b[0m\u001b[0;34m.\u001b[0m\u001b[0mupdate\u001b[0m\u001b[0;34m(\u001b[0m\u001b[0mread_grouped_csv\u001b[0m\u001b[0;34m(\u001b[0m\u001b[0mcsv\u001b[0m\u001b[0;34m)\u001b[0m\u001b[0;34m)\u001b[0m\u001b[0;34m\u001b[0m\u001b[0;34m\u001b[0m\u001b[0m\n\u001b[0m\u001b[1;32m      8\u001b[0m \u001b[0;34m\u001b[0m\u001b[0m\n\u001b[1;32m      9\u001b[0m \u001b[0mkeys_to_remove\u001b[0m \u001b[0;34m=\u001b[0m \u001b[0;34m[\u001b[0m\u001b[0;34m]\u001b[0m\u001b[0;34m\u001b[0m\u001b[0;34m\u001b[0m\u001b[0m\n",
      "\u001b[0;32m/hdlocal/enelson/mass_spec_ratio/NUDT7_ratios.py\u001b[0m in \u001b[0;36mread_grouped_csv\u001b[0;34m(csv)\u001b[0m\n\u001b[1;32m     51\u001b[0m     \u001b[0mdate\u001b[0m \u001b[0;34m=\u001b[0m \u001b[0mos\u001b[0m\u001b[0;34m.\u001b[0m\u001b[0mpath\u001b[0m\u001b[0;34m.\u001b[0m\u001b[0mbasename\u001b[0m\u001b[0;34m(\u001b[0m\u001b[0mcsv\u001b[0m\u001b[0;34m)\u001b[0m\u001b[0;34m.\u001b[0m\u001b[0msplit\u001b[0m\u001b[0;34m(\u001b[0m\u001b[0;34m\"_\"\u001b[0m\u001b[0;34m)\u001b[0m\u001b[0;34m[\u001b[0m\u001b[0;36m0\u001b[0m\u001b[0;34m]\u001b[0m\u001b[0;34m\u001b[0m\u001b[0;34m\u001b[0m\u001b[0m\n\u001b[1;32m     52\u001b[0m \u001b[0;34m\u001b[0m\u001b[0m\n\u001b[0;32m---> 53\u001b[0;31m     \u001b[0;32mwith\u001b[0m \u001b[0mopen\u001b[0m\u001b[0;34m(\u001b[0m\u001b[0mcsv\u001b[0m\u001b[0;34m)\u001b[0m \u001b[0;32mas\u001b[0m \u001b[0mf\u001b[0m\u001b[0;34m:\u001b[0m\u001b[0;34m\u001b[0m\u001b[0;34m\u001b[0m\u001b[0m\n\u001b[0m\u001b[1;32m     54\u001b[0m         \u001b[0mdata\u001b[0m \u001b[0;34m=\u001b[0m \u001b[0mf\u001b[0m\u001b[0;34m.\u001b[0m\u001b[0mread\u001b[0m\u001b[0;34m(\u001b[0m\u001b[0;34m)\u001b[0m\u001b[0;34m\u001b[0m\u001b[0;34m\u001b[0m\u001b[0m\n\u001b[1;32m     55\u001b[0m \u001b[0;34m\u001b[0m\u001b[0m\n",
      "\u001b[0;31mIsADirectoryError\u001b[0m: [Errno 21] Is a directory: '/hdlocal/enelson/mass_spec_ratio/NUDT7_Data/NUDT7A_Post_diffraction_crystal_mass_spectra_apr_14_16_2019'"
     ]
    }
   ],
   "source": [
    "#data_dir = \"/dls/science/groups/i04-1/elliot-dev/mass_spec_ratio/NUDT7_Data\"\n",
    "#data_dir = \"/home/nelse003/PycharmProjects/mass_spec_ratio/NUDT7_Data\"\n",
    "data_dir = \"/hdlocal/enelson/mass_spec_ratio/NUDT7_Data\"\n",
    "df_dict = {}\n",
    "for csv in os.listdir(data_dir):\n",
    "    csv = os.path.join(data_dir, csv)\n",
    "    df_dict.update(read_grouped_csv(csv))\n",
    "\n",
    "keys_to_remove = []\n",
    "peak_ratio  = []\n",
    "for key, df in df_dict.items():\n",
    "    if \"blank\" in key:\n",
    "        keys_to_remove.append(key)\n",
    "\n",
    "for key in set(keys_to_remove):\n",
    "    del df_dict[key]\n",
    "\n",
    "keys_to_remove = []\n",
    "for key, df in df_dict.items():\n",
    "    try:\n",
    "        peak_ratio.append(peak_height_outside_of_interest(df))\n",
    "    except ValueError:\n",
    "        keys_to_remove.append(key)\n",
    "    "
   ]
  },
  {
   "cell_type": "code",
   "execution_count": null,
   "metadata": {},
   "outputs": [],
   "source": [
    "print(df_dict.keys())"
   ]
  },
  {
   "cell_type": "code",
   "execution_count": null,
   "metadata": {},
   "outputs": [],
   "source": [
    "sample_key = '190301 : \"+ESI Scan (rt: 7.203-7.997 min, 49 scans) Frag=250.0V NUDT7A_p026_CI074435_F5a.d  Deconvoluted (Isotope Width=0.0)\"\\n'\n",
    "\n",
    "print(df_dict[sample_key])"
   ]
  },
  {
   "cell_type": "code",
   "execution_count": null,
   "metadata": {},
   "outputs": [],
   "source": [
    "sample_df = df_dict[sample_key]"
   ]
  },
  {
   "cell_type": "code",
   "execution_count": null,
   "metadata": {},
   "outputs": [],
   "source": [
    "sample_df.plot(x='X(Daltons)',y='Y(Counts)',kind='line',xlim=(22000,26000))"
   ]
  },
  {
   "cell_type": "code",
   "execution_count": null,
   "metadata": {},
   "outputs": [],
   "source": [
    "sample_df.plot(x='X(Daltons)',y='Y(Counts)',kind='line')"
   ]
  },
  {
   "cell_type": "code",
   "execution_count": null,
   "metadata": {},
   "outputs": [],
   "source": [
    "sample_df.plot(x='X(Daltons)',y='Y(Counts)',kind='line',xlim=(25000,25800),ylim=(0,60000))"
   ]
  },
  {
   "cell_type": "code",
   "execution_count": null,
   "metadata": {},
   "outputs": [],
   "source": []
  },
  {
   "cell_type": "code",
   "execution_count": null,
   "metadata": {},
   "outputs": [],
   "source": [
    "unlabelled_peak_df = sample_df[(sample_df['X(Daltons)'] >= 25100) & (sample_df['X(Daltons)'] <= 25300)]"
   ]
  },
  {
   "cell_type": "code",
   "execution_count": null,
   "metadata": {},
   "outputs": [],
   "source": [
    "unlabelled_peak_df['Y(Counts)'].sum()"
   ]
  },
  {
   "cell_type": "code",
   "execution_count": null,
   "metadata": {},
   "outputs": [],
   "source": [
    "labelled_peak_df = sample_df[(sample_df['X(Daltons)'] >= 25454) & (sample_df['X(Daltons)'] <= 25654)]"
   ]
  },
  {
   "cell_type": "code",
   "execution_count": null,
   "metadata": {},
   "outputs": [],
   "source": [
    "labelled_peak_df['Y(Counts)'].sum()"
   ]
  },
  {
   "cell_type": "code",
   "execution_count": null,
   "metadata": {},
   "outputs": [],
   "source": [
    "labelled_peak_df['Y(Counts)'].sum()/unlabelled_peak_df['Y(Counts)'].sum()"
   ]
  },
  {
   "cell_type": "code",
   "execution_count": null,
   "metadata": {},
   "outputs": [],
   "source": [
    "sample_df.plot(x='X(Daltons)',y='Y(Counts)',kind='line', xlim=(22000,26000))"
   ]
  },
  {
   "cell_type": "markdown",
   "metadata": {},
   "source": [
    "Expected peaks are to seperated by 354. Lokking for pairs"
   ]
  },
  {
   "cell_type": "code",
   "execution_count": null,
   "metadata": {},
   "outputs": [],
   "source": [
    "sample_df.plot(x='X(Daltons)',y='Y(Counts)',kind='line', xlim=(24000,25000),ylim=(0,22000))"
   ]
  },
  {
   "cell_type": "code",
   "execution_count": null,
   "metadata": {},
   "outputs": [],
   "source": [
    "test_df = sample_df[(sample_df['X(Daltons)'] >= 24200) & (sample_df['X(Daltons)'] <= 24400)]"
   ]
  },
  {
   "cell_type": "code",
   "execution_count": null,
   "metadata": {},
   "outputs": [],
   "source": [
    "test_df.loc[test_df['Y(Counts)'].idxmax()]"
   ]
  },
  {
   "cell_type": "markdown",
   "metadata": {},
   "source": [
    "Therefore the maximum should be at 24,572 for that to be a peak"
   ]
  },
  {
   "cell_type": "code",
   "execution_count": null,
   "metadata": {},
   "outputs": [],
   "source": [
    "test_label_df = sample_df[(sample_df['X(Daltons)'] >= 24500) & (sample_df['X(Daltons)'] <= 24700)]"
   ]
  },
  {
   "cell_type": "code",
   "execution_count": null,
   "metadata": {},
   "outputs": [],
   "source": [
    "test_label_df.loc[test_label_df['Y(Counts)'].idxmax()]"
   ]
  },
  {
   "cell_type": "code",
   "execution_count": null,
   "metadata": {},
   "outputs": [],
   "source": [
    "test_df = sample_df[(sample_df['X(Daltons)'] >= 24000) & (sample_df['X(Daltons)'] <= 24100)]"
   ]
  },
  {
   "cell_type": "code",
   "execution_count": null,
   "metadata": {},
   "outputs": [],
   "source": [
    "test_df.loc[test_df['Y(Counts)'].idxmax()]"
   ]
  },
  {
   "cell_type": "code",
   "execution_count": null,
   "metadata": {},
   "outputs": [],
   "source": [
    "test_label_df = sample_df[(sample_df['X(Daltons)'] >= 24400) & (sample_df['X(Daltons)'] <= 24500)]"
   ]
  },
  {
   "cell_type": "code",
   "execution_count": null,
   "metadata": {},
   "outputs": [],
   "source": [
    "test_label_df.loc[test_label_df['Y(Counts)'].idxmax()]"
   ]
  },
  {
   "cell_type": "code",
   "execution_count": null,
   "metadata": {},
   "outputs": [],
   "source": [
    "sample_df.plot(x='X(Daltons)',y='Y(Counts)',kind='line', xlim=(22500,24000),ylim=(0,250000))"
   ]
  },
  {
   "cell_type": "markdown",
   "metadata": {},
   "source": [
    "Looks like two sets of peaks"
   ]
  },
  {
   "cell_type": "code",
   "execution_count": null,
   "metadata": {},
   "outputs": [],
   "source": [
    "sample_df.plot(x='X(Daltons)',y='Y(Counts)',kind='line', xlim=(23500,24000),ylim=(0,120000))"
   ]
  },
  {
   "cell_type": "code",
   "execution_count": null,
   "metadata": {},
   "outputs": [],
   "source": [
    "test_df = sample_df[(sample_df['X(Daltons)'] >= 23500) & (sample_df['X(Daltons)'] <= 23700)]"
   ]
  },
  {
   "cell_type": "code",
   "execution_count": null,
   "metadata": {},
   "outputs": [],
   "source": [
    "test_df.loc[test_df['Y(Counts)'].idxmax()]"
   ]
  },
  {
   "cell_type": "code",
   "execution_count": null,
   "metadata": {},
   "outputs": [],
   "source": [
    "test_df = sample_df[(sample_df['X(Daltons)'] >= 23850) & (sample_df['X(Daltons)'] <= 23950)]"
   ]
  },
  {
   "cell_type": "code",
   "execution_count": null,
   "metadata": {},
   "outputs": [],
   "source": [
    "test_df.loc[test_df['Y(Counts)'].idxmax()]"
   ]
  },
  {
   "cell_type": "code",
   "execution_count": null,
   "metadata": {},
   "outputs": [],
   "source": [
    "sample_df.plot(x='X(Daltons)',y='Y(Counts)',kind='line', xlim=(22700,23300),ylim=(0,250000))"
   ]
  },
  {
   "cell_type": "code",
   "execution_count": null,
   "metadata": {},
   "outputs": [],
   "source": [
    "test_df = sample_df[(sample_df['X(Daltons)'] >= 22750) & (sample_df['X(Daltons)'] <= 22900)]"
   ]
  },
  {
   "cell_type": "code",
   "execution_count": null,
   "metadata": {},
   "outputs": [],
   "source": [
    "test_df.loc[test_df['Y(Counts)'].idxmax()]"
   ]
  },
  {
   "cell_type": "code",
   "execution_count": null,
   "metadata": {},
   "outputs": [],
   "source": [
    "test_df = sample_df[(sample_df['X(Daltons)'] >= 23100) & (sample_df['X(Daltons)'] <= 23300)]"
   ]
  },
  {
   "cell_type": "code",
   "execution_count": null,
   "metadata": {},
   "outputs": [],
   "source": [
    "test_df.loc[test_df['Y(Counts)'].idxmax()]"
   ]
  },
  {
   "cell_type": "code",
   "execution_count": null,
   "metadata": {},
   "outputs": [],
   "source": []
  },
  {
   "cell_type": "code",
   "execution_count": null,
   "metadata": {},
   "outputs": [],
   "source": [
    "sample_df.plot(x='X(Daltons)',y='Y(Counts)',kind='line', xlim=(22000,22700),ylim=(0,60000))"
   ]
  },
  {
   "cell_type": "code",
   "execution_count": null,
   "metadata": {},
   "outputs": [],
   "source": [
    "test_df = sample_df[(sample_df['X(Daltons)'] >= 22600) & (sample_df['X(Daltons)'] <= 22700)]"
   ]
  },
  {
   "cell_type": "code",
   "execution_count": null,
   "metadata": {},
   "outputs": [],
   "source": [
    "test_df.loc[test_df['Y(Counts)'].idxmax()]"
   ]
  },
  {
   "cell_type": "markdown",
   "metadata": {},
   "source": [
    "Therefore we have:\n",
    "\n",
    "| Unlabelled | Labelled |\n",
    "| --- | --- |\n",
    "| 25125 | 25479 |\n",
    "| 24218 | 24574 |\n",
    "| 23525 | 23879 |\n",
    "| 22786 | 23140 | \n",
    "\n",
    "Peak at 22637 doesnt match next peak down. Could be two weak pairs? Explain 8/9 strongest peaks. Need to look at the continuty of ratios between the sets, and the difference using max peak, and area within defined region from"
   ]
  },
  {
   "cell_type": "code",
   "execution_count": null,
   "metadata": {},
   "outputs": [],
   "source": [
    "sample_df.plot(x='X(Daltons)',y='Y(Counts)',kind='line',ylim=(0,250000),xlim=(22000,26000))"
   ]
  },
  {
   "cell_type": "code",
   "execution_count": null,
   "metadata": {},
   "outputs": [],
   "source": [
    "test_df = sample_df[(sample_df['X(Daltons)'] >= 21000) & (sample_df['X(Daltons)'] <= 26000)]\n"
   ]
  },
  {
   "cell_type": "code",
   "execution_count": null,
   "metadata": {},
   "outputs": [],
   "source": [
    "x = sample_df['Y(Counts)']"
   ]
  },
  {
   "cell_type": "code",
   "execution_count": null,
   "metadata": {},
   "outputs": [],
   "source": [
    "test_df"
   ]
  },
  {
   "cell_type": "code",
   "execution_count": null,
   "metadata": {},
   "outputs": [],
   "source": [
    "peaks, _ = find_peaks(x, height=0)"
   ]
  },
  {
   "cell_type": "code",
   "execution_count": null,
   "metadata": {},
   "outputs": [],
   "source": [
    "peaks = peaks + 6000"
   ]
  },
  {
   "cell_type": "code",
   "execution_count": null,
   "metadata": {},
   "outputs": [],
   "source": [
    "len(peaks)"
   ]
  },
  {
   "cell_type": "code",
   "execution_count": null,
   "metadata": {},
   "outputs": [],
   "source": [
    "plt.plot(x)\n",
    "plt.plot(peaks, x[peaks], \"x\")\n",
    "plt.show()"
   ]
  },
  {
   "cell_type": "code",
   "execution_count": null,
   "metadata": {},
   "outputs": [],
   "source": [
    "peaks, _ = find_peaks(x, height=1000)\n",
    "peaks = peaks + 6000\n",
    "plt.plot(x)\n",
    "plt.plot(peaks, x[peaks], \"x\")\n",
    "plt.show()\n",
    "len(peaks)"
   ]
  },
  {
   "cell_type": "code",
   "execution_count": null,
   "metadata": {},
   "outputs": [],
   "source": []
  },
  {
   "cell_type": "markdown",
   "metadata": {},
   "source": [
    "We recover 6 of the 8 expected peaks in the largest set. Lets check by separation if we can ignore the adducts ,a nd increase to include all\n",
    "\n",
    "| Unlabelled | Labelled |\n",
    "| --- | --- |\n",
    "| 25125 | 25479 |\n",
    "| 24218 | 24574 |\n",
    "| 23525 | 23879 |\n",
    "| 22786 | 23140 | "
   ]
  },
  {
   "cell_type": "code",
   "execution_count": null,
   "metadata": {},
   "outputs": [],
   "source": [
    "peaks, _ = find_peaks(x, height=1000, distance=100)\n",
    "peaks = peaks + 6000\n",
    "plt.plot(x)\n",
    "plt.plot(peaks, x[peaks], \"x\")\n",
    "plt.show()\n",
    "len(peaks)"
   ]
  },
  {
   "cell_type": "code",
   "execution_count": null,
   "metadata": {},
   "outputs": [],
   "source": []
  },
  {
   "cell_type": "code",
   "execution_count": null,
   "metadata": {},
   "outputs": [],
   "source": [
    "test_df = sample_df[(sample_df['X(Daltons)'] >= 25125-50) & (sample_df['X(Daltons)'] <= 25125+100)]"
   ]
  },
  {
   "cell_type": "code",
   "execution_count": null,
   "metadata": {},
   "outputs": [],
   "source": [
    "test_df.plot(x='X(Daltons)',y='Y(Counts)',kind='line',ylim=(0,60000))"
   ]
  },
  {
   "cell_type": "code",
   "execution_count": null,
   "metadata": {},
   "outputs": [],
   "source": [
    "unlabelled_peak_area = test_df['Y(Counts)'].sum()"
   ]
  },
  {
   "cell_type": "code",
   "execution_count": null,
   "metadata": {},
   "outputs": [],
   "source": [
    "labelled_df = sample_df[(sample_df['X(Daltons)'] >= 25479-50) & (sample_df['X(Daltons)'] <= 25479+100)]"
   ]
  },
  {
   "cell_type": "code",
   "execution_count": null,
   "metadata": {},
   "outputs": [],
   "source": [
    "labelled_df.plot(x='X(Daltons)',y='Y(Counts)',kind='line',ylim=(0,60000))"
   ]
  },
  {
   "cell_type": "code",
   "execution_count": null,
   "metadata": {},
   "outputs": [],
   "source": [
    "labelled_peak_area = labelled_df['Y(Counts)'].sum()"
   ]
  },
  {
   "cell_type": "code",
   "execution_count": null,
   "metadata": {},
   "outputs": [],
   "source": [
    "unlabelled_peak_area/ (unlabelled_peak_area + labelled_peak_area)"
   ]
  },
  {
   "cell_type": "code",
   "execution_count": null,
   "metadata": {},
   "outputs": [],
   "source": [
    "labelled_peak_area/ (unlabelled_peak_area + labelled_peak_area)"
   ]
  },
  {
   "cell_type": "code",
   "execution_count": null,
   "metadata": {},
   "outputs": [],
   "source": [
    "labelled_peak_height = labelled_df['Y(Counts)'].max()"
   ]
  },
  {
   "cell_type": "code",
   "execution_count": null,
   "metadata": {},
   "outputs": [],
   "source": [
    "unlabelled_df = test_df\n",
    "unlabelled_peak_height = unlabelled_df['Y(Counts)'].max()"
   ]
  },
  {
   "cell_type": "code",
   "execution_count": null,
   "metadata": {},
   "outputs": [],
   "source": [
    "labelled_peak_height/(unlabelled_peak_height + labelled_peak_height)"
   ]
  },
  {
   "cell_type": "code",
   "execution_count": null,
   "metadata": {},
   "outputs": [],
   "source": [
    "unlabelled_peak_height/(unlabelled_peak_height + labelled_peak_height)"
   ]
  },
  {
   "cell_type": "code",
   "execution_count": null,
   "metadata": {},
   "outputs": [],
   "source": [
    "def peak_height_outside_of_interest(df, min_interest = 22000, max_interest = 26000):\n",
    "    \"\"\" Find ratio between largest peak inside area of interst, and outside \"\"\"\n",
    "    \n",
    "    peaks, _ = find_peaks(df['Y(Counts)'], height=1000, distance=100)\n",
    "    \n",
    "    peaks_df = df.loc[peaks]\n",
    "    \n",
    "    interest_peaks_df = peaks_df[(peaks_df['X(Daltons)'] >= min_interest) & (peaks_df['X(Daltons)'] <= max_interest)]\n",
    "    uninterest_peaks_df = peaks_df[(peaks_df['X(Daltons)'] < min_interest) | (peaks_df['X(Daltons)'] > max_interest)]\n",
    "    \n",
    "    max_uninterest_peak = uninterest_peaks_df.nlargest(1,'Y(Counts)')\n",
    "    max_interest_peak = interest_peaks_df.nlargest(1,'Y(Counts)')\n",
    "    \n",
    "    ratio_of_peak_outside_area = max_uninterest_peak['Y(Counts)'].values/(max_interest_peak['Y(Counts)'].values + max_uninterest_peak['Y(Counts)'].values)\n",
    "\n",
    "    return float(ratio_of_peak_outside_area)\n",
    "\n",
    "peak_height_outside_of_interest(sample_df)"
   ]
  },
  {
   "cell_type": "code",
   "execution_count": null,
   "metadata": {},
   "outputs": [],
   "source": [
    "expected_unlabelled_peaks = np.array([25125, 24218, 23525, 22786])\n",
    "expected_labelled_peaks = expected_unlabelled_peaks + 354\n"
   ]
  },
  {
   "cell_type": "code",
   "execution_count": null,
   "metadata": {},
   "outputs": [],
   "source": [
    "x = sample_df['Y(Counts)']\n",
    "peaks, _ = find_peaks(x, height=1000, distance=100)\n",
    "plt.plot(x)\n",
    "plt.plot(peaks, x[peaks], \"x\")\n",
    "plt.show()"
   ]
  },
  {
   "cell_type": "code",
   "execution_count": null,
   "metadata": {},
   "outputs": [],
   "source": [
    "for key, df in df_dict.items():\n",
    "     if \"190227 : \\\"+ESI Scan (rt: 7.200-7.994 min, 49 scans) Frag=250.0V blank01.d\" in key:\n",
    "            df.plot(x='X(Daltons)',y='Y(Counts)',kind='line',ylim=(0,2000))"
   ]
  },
  {
   "cell_type": "code",
   "execution_count": null,
   "metadata": {},
   "outputs": [],
   "source": []
  },
  {
   "cell_type": "code",
   "execution_count": null,
   "metadata": {},
   "outputs": [],
   "source": []
  },
  {
   "cell_type": "code",
   "execution_count": null,
   "metadata": {},
   "outputs": [],
   "source": [
    "expected_unlabelled_peaks = np.array([25125, 24218, 23525, 22786])\n",
    "expected_labelled_peaks = expected_unlabelled_peaks + 354\n",
    "\n",
    "def peak_nearby(df, peak, delta=10, left_range=50, right_range=100):\n",
    "\n",
    "    peak_df = df[(df['X(Daltons)'] >= peak-delta)\n",
    "            & (df['X(Daltons)'] <= peak+delta)]\n",
    "    #print(peak_df)\n",
    "    peak_loc = peak_df.loc[peak_df['Y(Counts)'].idxmax()]['X(Daltons)']\n",
    "    peak_height = peak_df['Y(Counts)'].max()\n",
    "    peak_area_df = sample_df[(sample_df['X(Daltons)'] >= peak-left_range)\n",
    "            & (sample_df['X(Daltons)'] <= peak+right_range)]\n",
    "    peak_area = peak_area_df['Y(Counts)'].sum()\n",
    "\n",
    "    return peak_loc, peak_height, peak_area\n",
    "\n",
    "\n",
    "x = sample_df['Y(Counts)']\n",
    "peaks, _ = find_peaks(x, height=1000, distance=100)\n",
    "peaks_df = df.loc[peaks]\n",
    "\n",
    "for peak, peak_labelled in zip(expected_unlabelled_peaks, expected_labelled_peaks):\n",
    "\n",
    "    print(peak, peak_labelled)\n",
    "    \n",
    "    peak_loc, peak_height, peak_area = peak_nearby(sample_df, peak, \n",
    "                                                   delta=10, \n",
    "                                                   left_range=50, \n",
    "                                                   right_range=100)\n",
    "    \n",
    "    labelled_peak_loc, \\\n",
    "    labelled_peak_height,\\\n",
    "    labelled_peak_area = peak_nearby(df,\n",
    "                                     peak_labelled, \n",
    "                                     delta=10,\n",
    "                                     left_range=50,right_range=100)\n",
    "\n",
    "    print(peak_loc,labelled_peak_loc)\n",
    "\n",
    "    \n",
    "\n"
   ]
  },
  {
   "cell_type": "code",
   "execution_count": null,
   "metadata": {},
   "outputs": [],
   "source": [
    "    sample_key = '190301 : \"+ESI Scan (rt: 7.203-7.997 min, 49 scans)' \\\n",
    "                 ' Frag=250.0V NUDT7A_p026_CI074435_F5a.d' \\\n",
    "                 '  Deconvoluted (Isotope Width=0.0)\"\\n'\n",
    "\n",
    "    sample_df = df_dict[sample_key]\n",
    "\n",
    "sample_df.plot(x='X(Daltons)',y='Y(Counts)',kind='scatter',ylim=(0,50000),xlim=(25400,25600))"
   ]
  },
  {
   "cell_type": "markdown",
   "metadata": {},
   "source": [
    "Now Looking at plots of ratios. Load in data once:"
   ]
  },
  {
   "cell_type": "code",
   "execution_count": 2,
   "metadata": {},
   "outputs": [
    {
     "ename": "IsADirectoryError",
     "evalue": "[Errno 21] Is a directory: '/dls/science/groups/i04-1/elliot-dev/mass_spec_ratio/NUDT7_Data/180425_NUDT7A_p016'",
     "output_type": "error",
     "traceback": [
      "\u001b[0;31m---------------------------------------------------------------------------\u001b[0m",
      "\u001b[0;31mIsADirectoryError\u001b[0m                         Traceback (most recent call last)",
      "\u001b[0;32m<ipython-input-2-e9007992568c>\u001b[0m in \u001b[0;36m<module>\u001b[0;34m\u001b[0m\n\u001b[1;32m      4\u001b[0m \u001b[0;32mfor\u001b[0m \u001b[0mcsv\u001b[0m \u001b[0;32min\u001b[0m \u001b[0mos\u001b[0m\u001b[0;34m.\u001b[0m\u001b[0mlistdir\u001b[0m\u001b[0;34m(\u001b[0m\u001b[0mdata_dir\u001b[0m\u001b[0;34m)\u001b[0m\u001b[0;34m:\u001b[0m\u001b[0;34m\u001b[0m\u001b[0;34m\u001b[0m\u001b[0m\n\u001b[1;32m      5\u001b[0m     \u001b[0mcsv\u001b[0m \u001b[0;34m=\u001b[0m \u001b[0mos\u001b[0m\u001b[0;34m.\u001b[0m\u001b[0mpath\u001b[0m\u001b[0;34m.\u001b[0m\u001b[0mjoin\u001b[0m\u001b[0;34m(\u001b[0m\u001b[0mdata_dir\u001b[0m\u001b[0;34m,\u001b[0m \u001b[0mcsv\u001b[0m\u001b[0;34m)\u001b[0m\u001b[0;34m\u001b[0m\u001b[0;34m\u001b[0m\u001b[0m\n\u001b[0;32m----> 6\u001b[0;31m     \u001b[0mdf_dict\u001b[0m\u001b[0;34m.\u001b[0m\u001b[0mupdate\u001b[0m\u001b[0;34m(\u001b[0m\u001b[0mread_grouped_csv\u001b[0m\u001b[0;34m(\u001b[0m\u001b[0mcsv\u001b[0m\u001b[0;34m)\u001b[0m\u001b[0;34m)\u001b[0m\u001b[0;34m\u001b[0m\u001b[0;34m\u001b[0m\u001b[0m\n\u001b[0m\u001b[1;32m      7\u001b[0m \u001b[0;34m\u001b[0m\u001b[0m\n\u001b[1;32m      8\u001b[0m \u001b[0;31m# Remove blank datasets\u001b[0m\u001b[0;34m\u001b[0m\u001b[0;34m\u001b[0m\u001b[0;34m\u001b[0m\u001b[0m\n",
      "\u001b[0;32m/dls/science/groups/i04-1/elliot-dev/mass_spec_ratio/NUDT7_ratios.py\u001b[0m in \u001b[0;36mread_grouped_csv\u001b[0;34m(csv)\u001b[0m\n\u001b[1;32m     52\u001b[0m     \u001b[0mdate\u001b[0m \u001b[0;34m=\u001b[0m \u001b[0mos\u001b[0m\u001b[0;34m.\u001b[0m\u001b[0mpath\u001b[0m\u001b[0;34m.\u001b[0m\u001b[0mbasename\u001b[0m\u001b[0;34m(\u001b[0m\u001b[0mcsv\u001b[0m\u001b[0;34m)\u001b[0m\u001b[0;34m.\u001b[0m\u001b[0msplit\u001b[0m\u001b[0;34m(\u001b[0m\u001b[0;34m\"_\"\u001b[0m\u001b[0;34m)\u001b[0m\u001b[0;34m[\u001b[0m\u001b[0;36m0\u001b[0m\u001b[0;34m]\u001b[0m\u001b[0;34m\u001b[0m\u001b[0;34m\u001b[0m\u001b[0m\n\u001b[1;32m     53\u001b[0m \u001b[0;34m\u001b[0m\u001b[0m\n\u001b[0;32m---> 54\u001b[0;31m     \u001b[0;32mwith\u001b[0m \u001b[0mopen\u001b[0m\u001b[0;34m(\u001b[0m\u001b[0mcsv\u001b[0m\u001b[0;34m)\u001b[0m \u001b[0;32mas\u001b[0m \u001b[0mf\u001b[0m\u001b[0;34m:\u001b[0m\u001b[0;34m\u001b[0m\u001b[0;34m\u001b[0m\u001b[0m\n\u001b[0m\u001b[1;32m     55\u001b[0m         \u001b[0mdata\u001b[0m \u001b[0;34m=\u001b[0m \u001b[0mf\u001b[0m\u001b[0;34m.\u001b[0m\u001b[0mread\u001b[0m\u001b[0;34m(\u001b[0m\u001b[0;34m)\u001b[0m\u001b[0;34m\u001b[0m\u001b[0;34m\u001b[0m\u001b[0m\n\u001b[1;32m     56\u001b[0m \u001b[0;34m\u001b[0m\u001b[0m\n",
      "\u001b[0;31mIsADirectoryError\u001b[0m: [Errno 21] Is a directory: '/dls/science/groups/i04-1/elliot-dev/mass_spec_ratio/NUDT7_Data/180425_NUDT7A_p016'"
     ]
    }
   ],
   "source": [
    "data_dir = \"/dls/science/groups/i04-1/elliot-dev/mass_spec_ratio/NUDT7_Data\"\n",
    "# Parse all csv in folder to separate into individual deconvolutions by headers\n",
    "df_dict = {}\n",
    "for csv in os.listdir(data_dir):\n",
    "    csv = os.path.join(data_dir, csv)\n",
    "    df_dict.update(read_grouped_csv(csv))\n",
    "\n",
    "# Remove blank datasets\n",
    "df_dict = remove_dataset_by_filename_content(df_dict, key_string=\"blank\")\n",
    "# Remove un-needed dataset\n",
    "df_dict = remove_dataset_by_filename_content(df_dict,\n",
    "                                             key_string=\"NUDT7A_p026_NU0000308a\"\n",
    "                                                        \"_post_gel_filtration\")\n",
    "\n",
    "# remove datasets that do not pass signal threshold\n",
    "# currently 1000 counts in interest area 22000-26000\n",
    "# TODO Move parameters up to non hard coded region\n",
    "df_dict, peak_ratios = check_signal_to_noise(df_dict)\n",
    "\n",
    "# From Exploratory analysis these pairs of peaks are present\n",
    "# showing that degradation into three sets of paired peaks\n",
    "expected_unlabelled_peaks = np.array([25125, 24218, 23525, 22786])\n",
    "expected_labelled_peaks = expected_unlabelled_peaks + 354\n",
    "\n",
    "# Translate keys (filenames) into ratios\n",
    "# Split across two dicitionaries to parse\n",
    "# intended ratio and expected ratio\n",
    "intended_ratio_dict = ratios_from_filenames(df_dict)\n",
    "\n",
    "# Process all deconvolutions to ratios of peaks\n",
    "ratio_df_list = []\n",
    "for key, df in df_dict.items():\n",
    "    ratio_df = get_ratios_of_expected_peaks(df,\n",
    "                                            expected_unlabelled_peaks,\n",
    "                                            expected_labelled_peaks)\n",
    "\n",
    "    # Get weights of contributing peaks based on peak height\n",
    "    height_weight = (ratio_df['peak_height'] + ratio_df['labelled_peak_height']) \\\n",
    "                    / (ratio_df['labelled_peak_height'].sum() + \\\n",
    "                       ratio_df['peak_height'].sum())\n",
    "\n",
    "    # Get weights of contributing peaks based on peak area\n",
    "    area_weight = (ratio_df['peak_area'] + ratio_df['labelled_peak_area']) \\\n",
    "                  / (ratio_df['labelled_peak_area'].sum() + \\\n",
    "                     ratio_df['peak_area'].sum())\n",
    "\n",
    "    # Get a single weighted ratio using peak heights\n",
    "    weighted_height_ratio = height_weight * ratio_df['height_ratio']\n",
    "    weighted_height_ratio = weighted_height_ratio.sum()\n",
    "\n",
    "    # Get a single weighted ratio using peak areas\n",
    "    weighted_area_ratio = area_weight * ratio_df['area_ratio']\n",
    "    weighted_area_ratio = weighted_area_ratio.sum()\n",
    "\n",
    "    # Store weights and ratios, and key in ratio dataframe\n",
    "    ratio_df['height_weights'] = height_weight\n",
    "    ratio_df['area_weights'] = area_weight\n",
    "    ratio_df['weighted_height_ratio'] = weighted_height_ratio\n",
    "    ratio_df['weighted_area_ratio'] = weighted_area_ratio\n",
    "    ratio_df['intended_ratio'] = intended_ratio_dict[key]\n",
    "    ratio_df['key'] = key\n",
    "\n",
    "    # For concatenating results\n",
    "    ratio_df_list.append(ratio_df)\n",
    "\n",
    "ratio_df = pd.concat(ratio_df_list)"
   ]
  },
  {
   "cell_type": "markdown",
   "metadata": {},
   "source": [
    "Split into two dataframes"
   ]
  },
  {
   "cell_type": "code",
   "execution_count": null,
   "metadata": {},
   "outputs": [],
   "source": [
    "ratio_df['pre_crystal'] = ratio_df['key'].apply(string_contains, match='L_')\n",
    "pre_crystal_df = ratio_df[ratio_df['pre_crystal'] == True]\n",
    "post_crystal_df = ratio_df[ratio_df['pre_crystal'] == False]"
   ]
  },
  {
   "cell_type": "markdown",
   "metadata": {},
   "source": [
    "Plotting"
   ]
  },
  {
   "cell_type": "code",
   "execution_count": null,
   "metadata": {},
   "outputs": [],
   "source": [
    "pre_crystal_plot(pre_crystal_df)\n",
    "post_crystal_plot(post_crystal_df)"
   ]
  },
  {
   "cell_type": "markdown",
   "metadata": {},
   "source": [
    "Swapping to Calibrated ratio from pre_crystal experiements. Interpolating the missing value, and setting no peak at 0 intedned ratio"
   ]
  },
  {
   "cell_type": "code",
   "execution_count": null,
   "metadata": {},
   "outputs": [],
   "source": [
    "df = pre_crystal_df[['intended_ratio','weighted_height_ratio']]\n",
    "df = df.drop_duplicates()\n",
    "df = df.sort_values(by=['intended_ratio'])\n",
    "intended_ratio = df['intended_ratio']\n",
    "expected_ratio = df['weighted_height_ratio']\n",
    "interp_val = np.interp(0.75, intended_ratio, expected_ratio)\n",
    "\n",
    "df1 = pd.DataFrame({'intended_ratio': [0.75,0],\n",
    "           'weighted_height_ratio': [interp_val,0]})\n",
    "df = df.append(df1)\n",
    "df = df.sort_values(by=['intended_ratio'])\n",
    "df = df.rename(columns={'weighted_height_ratio': 'calibrated_ratio'})\n",
    "post_crystal_df = pd.merge(post_crystal_df, df, on='intended_ratio')"
   ]
  },
  {
   "cell_type": "code",
   "execution_count": null,
   "metadata": {},
   "outputs": [],
   "source": [
    "post_crystal_calibrated_plot(post_crystal_df)"
   ]
  },
  {
   "cell_type": "code",
   "execution_count": null,
   "metadata": {},
   "outputs": [],
   "source": [
    "for key in df_dict.keys():\n",
    "    if 'CI074433' in key:\n",
    "        print(key)\n",
    "    "
   ]
  },
  {
   "cell_type": "code",
   "execution_count": null,
   "metadata": {},
   "outputs": [],
   "source": [
    "key = '190302 : \"+ESI Scan (rt: 7.202-7.996 min, 49 scans) Frag=250.0V NUDT7A_p026_CI074433_C5c.d  Deconvoluted (Isotope Width=0.0)\"\\n'"
   ]
  },
  {
   "cell_type": "code",
   "execution_count": null,
   "metadata": {},
   "outputs": [],
   "source": [
    "key = '190302 : \"+ESI Scan (rt: 7.202-7.996 min, 49 scans) Frag=250.0V NUDT7A_p026_CI074433_C5c.d  Deconvoluted (Isotope Width=0.0)\"\\n'\n",
    "no_label_df = df_dict[key]\n",
    "no_label_df.plot(x='X(Daltons)',y='Y(Counts)',kind='line',xlim=(22000,26000))"
   ]
  },
  {
   "cell_type": "code",
   "execution_count": null,
   "metadata": {},
   "outputs": [],
   "source": [
    "key = '190302 : \"+ESI Scan (rt: 7.202-7.996 min, 49 scans) Frag=250.0V NUDT7A_p026_CI074433_C3c.d  Deconvoluted (Isotope Width=0.0)\"\\n'\n",
    "no_label_df = df_dict[key]\n",
    "no_label_df.plot(x='X(Daltons)',y='Y(Counts)',kind='line',xlim=(22000,26000))"
   ]
  },
  {
   "cell_type": "code",
   "execution_count": null,
   "metadata": {},
   "outputs": [],
   "source": [
    "key = '190302 : \"+ESI Scan (rt: 7.208-7.985 min, 48 scans) Frag=250.0V NUDT7A_p026_CI074433_A6d.d  Deconvoluted (Isotope Width=0.0)\"\\n'\n",
    "no_label_df = df_dict[key]\n",
    "no_label_df.plot(x='X(Daltons)',y='Y(Counts)',kind='line',xlim=(22000,26000))"
   ]
  },
  {
   "cell_type": "markdown",
   "metadata": {},
   "source": [
    "## Plotting mounted ratios"
   ]
  },
  {
   "cell_type": "code",
   "execution_count": null,
   "metadata": {},
   "outputs": [],
   "source": [
    "import pandas as pd\n",
    "%matplotlib inline\n",
    "import matplotlib.pyplot as plt\n",
    "plt.rcParams['figure.figsize'] = [10, 10]\n",
    "\n",
    "mounted_df = pd.read_csv('/dls/science/groups/i04-1/elliot-dev/mass_spec_ratio/NUDT7_Data/mounted_ratios.csv')"
   ]
  },
  {
   "cell_type": "code",
   "execution_count": null,
   "metadata": {},
   "outputs": [],
   "source": [
    "mounted_df.columns.values"
   ]
  },
  {
   "cell_type": "code",
   "execution_count": null,
   "metadata": {},
   "outputs": [],
   "source": [
    "occ_correct = \"/dls/science/groups/i04-1/elliot-dev/Work/NUDT7A_mass_spec_refinements/occ_correct.csv\"\n",
    "occ_correct_df = pd.read_csv(occ_correct)"
   ]
  },
  {
   "cell_type": "code",
   "execution_count": null,
   "metadata": {},
   "outputs": [],
   "source": [
    "occ_correct_df"
   ]
  },
  {
   "cell_type": "code",
   "execution_count": null,
   "metadata": {},
   "outputs": [],
   "source": [
    "occ_df = pd.merge(occ_correct_df, mounted_df, right_on='  Mounted Crystal ID ', left_on='crystal')\n"
   ]
  },
  {
   "cell_type": "code",
   "execution_count": null,
   "metadata": {},
   "outputs": [],
   "source": [
    "occ_df = occ_df.drop_duplicates()"
   ]
  },
  {
   "cell_type": "code",
   "execution_count": null,
   "metadata": {},
   "outputs": [],
   "source": [
    "occ_df = occ_df[occ_df.state==\"bound\"]"
   ]
  },
  {
   "cell_type": "code",
   "execution_count": null,
   "metadata": {},
   "outputs": [],
   "source": [
    "occ_df = occ_df[occ_df.resname==\"LIG\"]"
   ]
  },
  {
   "cell_type": "code",
   "execution_count": null,
   "metadata": {},
   "outputs": [],
   "source": []
  },
  {
   "cell_type": "code",
   "execution_count": null,
   "metadata": {},
   "outputs": [],
   "source": [
    "occ_df.columns.values"
   ]
  },
  {
   "cell_type": "code",
   "execution_count": null,
   "metadata": {},
   "outputs": [],
   "source": [
    "occ_df = occ_df[occ_df['occupancy group']==3]"
   ]
  },
  {
   "cell_type": "code",
   "execution_count": null,
   "metadata": {},
   "outputs": [],
   "source": []
  },
  {
   "cell_type": "code",
   "execution_count": null,
   "metadata": {},
   "outputs": [],
   "source": [
    "occ_df.plot(x='state occupancy', y='Expected Ratio',kind='scatter')"
   ]
  },
  {
   "cell_type": "code",
   "execution_count": null,
   "metadata": {},
   "outputs": [],
   "source": [
    "def xtal_num(row):\n",
    "    return row.crystal.split('x')[1]"
   ]
  },
  {
   "cell_type": "code",
   "execution_count": null,
   "metadata": {},
   "outputs": [],
   "source": [
    "occ_df['xtal_num'] = occ_df.apply(func=xtal_num,axis=1)"
   ]
  },
  {
   "cell_type": "code",
   "execution_count": null,
   "metadata": {},
   "outputs": [],
   "source": []
  },
  {
   "cell_type": "markdown",
   "metadata": {},
   "source": [
    "Removed older structures in csv file."
   ]
  },
  {
   "cell_type": "code",
   "execution_count": null,
   "metadata": {},
   "outputs": [],
   "source": [
    "occ_new = pd.read_csv(\"/dls/science/groups/i04-1/elliot-dev/Work/NUDT7A_mass_spec_refinements/occ_quick.csv\")"
   ]
  },
  {
   "cell_type": "code",
   "execution_count": null,
   "metadata": {},
   "outputs": [],
   "source": [
    "occ_new.plot(x='state occupancy', y='Expected Ratio',kind='scatter')"
   ]
  },
  {
   "cell_type": "code",
   "execution_count": null,
   "metadata": {},
   "outputs": [],
   "source": [
    "plt.rcParams['figure.figsize'] = [10, 10]\n",
    "occ_new.plot(x='state occupancy', c='B_mean',kind='scatter',y='Expected Ratio',colormap='viridis', sharex=False)\n",
    "plt.savefig('occ_B_expected.png')\n"
   ]
  },
  {
   "cell_type": "markdown",
   "metadata": {},
   "source": [
    "Looking at the plots for earlier crystals, including all"
   ]
  },
  {
   "cell_type": "code",
   "execution_count": null,
   "metadata": {},
   "outputs": [],
   "source": [
    "plt.rcParams['figure.figsize'] = [10, 10]\n",
    "occ_df.plot(x='state occupancy', c='B_mean',kind='scatter',y='Expected Ratio',colormap='viridis', sharex=False)\n",
    "plt.savefig('occ_B_expected.png')"
   ]
  },
  {
   "cell_type": "markdown",
   "metadata": {},
   "source": [
    "Plotting with intended ratio"
   ]
  },
  {
   "cell_type": "code",
   "execution_count": null,
   "metadata": {},
   "outputs": [],
   "source": [
    "post_crystal_df"
   ]
  },
  {
   "cell_type": "code",
   "execution_count": null,
   "metadata": {},
   "outputs": [],
   "source": [
    "post_crystal_df.plot(x=\"intended_ratio\",y=\"weighted_area_ratio\",kind='scatter')"
   ]
  },
  {
   "cell_type": "code",
   "execution_count": null,
   "metadata": {},
   "outputs": [],
   "source": [
    "from scipy.optimize import curve_fit\n",
    "\n",
    "\n",
    "def fsigmoid(x, a, b):\n",
    "    return 1.0 / (1.0 + np.exp(-a*(x-b)))\n",
    "\n",
    "def expon(x, a, b):\n",
    "    return 1 - np.exp(-a*(x-b))\n",
    "\n",
    "# Sigmoidal fit\n",
    "\n",
    "popt, pcov = curve_fit(fsigmoid, \n",
    "                       ydata = post_crystal_df['intended_ratio'], \n",
    "                       xdata = post_crystal_df['calibrated_ratio'], \n",
    "                       method='dogbox')\n",
    "\n",
    "plt.plot(post_crystal_df['calibrated_ratio'], post_crystal_df['intended_ratio'], 'o', label='data')\n",
    "x = np.linspace(0, 1, 100)\n",
    "y = fsigmoid(x, *popt)\n",
    "plt.plot(x,y,label='fit')\n",
    "plt.ylim(0, 1.05)\n",
    "plt.legend(loc='best')\n",
    "plt.xlabel(\"intended ratio\")\n",
    "plt.ylabel(\"calibrated_ratio\")\n",
    "plt.show()\n",
    "\n",
    "# Exponential fit\n",
    "\n",
    "exp_popt, exp_pcov = curve_fit(expon, \n",
    "                       ydata = post_crystal_df['intended_ratio'], \n",
    "                       xdata = post_crystal_df['calibrated_ratio'], \n",
    "                       method='dogbox')\n",
    "\n",
    "plt.plot(post_crystal_df['calibrated_ratio'], post_crystal_df['intended_ratio'], 'o', label='data')\n",
    "x = np.linspace(0, 1, 100)\n",
    "y = expon(x, *exp_popt)\n",
    "plt.plot(x,y,label='fit')\n",
    "plt.ylim(0, 1.05)\n",
    "plt.legend(loc='best')\n",
    "plt.xlabel(\"intended ratio\")\n",
    "plt.ylabel(\"calibrated_ratio\")\n",
    "plt.show()\n",
    "\n",
    "# exponential fit forcing end points\n",
    "\n",
    "sigma = np.ones(len(post_crystal_df['intended_ratio']))\n",
    "sigma[[0, -1]] = 0.01\n",
    "\n",
    "popt, pcov = curve_fit(expon, \n",
    "                       ydata = sorted(post_crystal_df['intended_ratio']), \n",
    "                       xdata = sorted(post_crystal_df['calibrated_ratio']), \n",
    "                       method='dogbox',\n",
    "                       sigma=sigma)\n",
    "\n",
    "plt.plot(post_crystal_df['calibrated_ratio'], post_crystal_df['intended_ratio'], 'o', label='data')\n",
    "x = np.linspace(0, 1, 100)\n",
    "y = expon(x, *popt)\n",
    "plt.plot(x,y,label='fit')\n",
    "plt.ylim(0, 1.05)\n",
    "plt.legend(loc='best')\n",
    "plt.xlabel(\"intended ratio\")\n",
    "plt.ylabel(\"calibrated_ratio\")\n",
    "plt.show()\n",
    "\n",
    "# sigmoid fit forcing end points\n",
    "\n",
    "sigma = np.ones(len(post_crystal_df['intended_ratio']))\n",
    "sigma[[0, -1]] = 0.01\n",
    "\n",
    "popt, pcov = curve_fit(fsigmoid, \n",
    "                       ydata = sorted(post_crystal_df['intended_ratio']), \n",
    "                       xdata = sorted(post_crystal_df['calibrated_ratio']), \n",
    "                       method='dogbox',\n",
    "                       sigma=sigma)\n",
    "\n",
    "plt.plot(post_crystal_df['calibrated_ratio'], post_crystal_df['intended_ratio'], 'o', label='data')\n",
    "x = np.linspace(0, 1, 100)\n",
    "y = fsigmoid(x, *popt)\n",
    "plt.plot(x,y,label='fit')\n",
    "plt.ylim(0, 1.05)\n",
    "plt.legend(loc='best')\n",
    "plt.xlabel(\"intended ratio\")\n",
    "plt.ylabel(\"calibrated_ratio\")\n",
    "plt.show()"
   ]
  },
  {
   "cell_type": "code",
   "execution_count": null,
   "metadata": {},
   "outputs": [],
   "source": [
    "x"
   ]
  },
  {
   "cell_type": "code",
   "execution_count": null,
   "metadata": {},
   "outputs": [],
   "source": [
    "expon(0, *popt)"
   ]
  },
  {
   "cell_type": "code",
   "execution_count": null,
   "metadata": {},
   "outputs": [],
   "source": [
    "expon(0.1,*exp_popt)"
   ]
  },
  {
   "cell_type": "code",
   "execution_count": null,
   "metadata": {},
   "outputs": [],
   "source": [
    "occ_new['Calibrated_exp_curve_fit_ratio'] = expon(occ_new['Expected Ratio'], *exp_popt)"
   ]
  },
  {
   "cell_type": "code",
   "execution_count": null,
   "metadata": {},
   "outputs": [],
   "source": [
    "plt.rcParams['figure.figsize'] = [10, 10]\n",
    "occ_new.plot(x='state occupancy', c='B_mean',kind='scatter',y='Calibrated_exp_curve_fit_ratio',colormap='viridis', sharex=False)\n",
    "plt.savefig('occ_B_expected_calibrated.png')"
   ]
  },
  {
   "cell_type": "markdown",
   "metadata": {},
   "source": [
    "## Plotting mounted ratios, from / copy_atoms"
   ]
  },
  {
   "cell_type": "markdown",
   "metadata": {},
   "source": [
    "This should be independent, after sourcing in cell 2"
   ]
  },
  {
   "cell_type": "code",
   "execution_count": 170,
   "metadata": {},
   "outputs": [],
   "source": [
    "occ_correct = \"occ_correct.csv\"\n",
    "occ_correct_df = pd.read_csv(occ_correct)\n",
    "mounted_df = pd.read_csv('mounted_ratios.csv')\n",
    "\n",
    "\n",
    "occ_df = pd.merge(occ_correct_df, mounted_df, right_on='  Mounted Crystal ID ', left_on='crystal')\n",
    "occ_df = occ_df[occ_df.state==\"bound\"]\n",
    "occ_df = occ_df[occ_df.resname==\"LIG\"]\n",
    "occ_df = occ_df[occ_df['occupancy group']==5]"
   ]
  },
  {
   "cell_type": "markdown",
   "metadata": {},
   "source": [
    "Plotting with colour map"
   ]
  },
  {
   "cell_type": "code",
   "execution_count": 9,
   "metadata": {},
   "outputs": [
    {
     "data": {
      "image/png": "[encoded data removed]",
      "text/plain": [
       "<Figure size 720x720 with 2 Axes>"
      ]
     },
     "metadata": {
      "needs_background": "light"
     },
     "output_type": "display_data"
    }
   ],
   "source": [
    "plt.rcParams['figure.figsize'] = [10, 10]\n",
    "occ_df.plot(x='state occupancy', c='B_mean',kind='scatter',y='Expected Ratio',colormap='viridis', sharex=False)\n",
    "plt.xlim(0,1)\n",
    "plt.ylim(0,1)\n",
    "plt.savefig('copy_atoms_occ_B_expected.png')"
   ]
  },
  {
   "cell_type": "code",
   "execution_count": 4,
   "metadata": {},
   "outputs": [
    {
     "name": "stderr",
     "output_type": "stream",
     "text": [
      "/home/nelse003/.local/lib/python3.6/site-packages/numpy/core/fromnumeric.py:57: FutureWarning: Method .ptp is deprecated and will be removed in a future version. Use numpy.ptp instead.\n",
      "  return getattr(obj, method)(*args, **kwds)\n",
      "/home/nelse003/.local/lib/python3.6/site-packages/matplotlib/legend.py:623: UserWarning: Legend does not support [<matplotlib.lines.Line2D object at 0x7fec56ac0dd8>] instances.\n",
      "A proxy artist may be used instead.\n",
      "See: http://matplotlib.org/users/legend_guide.html#using-proxy-artist\n",
      "  \"#using-proxy-artist\".format(orig_handle)\n"
     ]
    },
    {
     "data": {
      "image/png": "[encoded data removed]",
      "text/plain": [
       "<matplotlib.figure.Figure at 0x7fec6195d5f8>"
      ]
     },
     "metadata": {},
     "output_type": "display_data"
    }
   ],
   "source": [
    "import statsmodels.api as sm\n",
    "import matplotlib.lines as mlines\n",
    "plt.rcParams.update({'font.size': 18})\n",
    "\n",
    "def plot_ratio_occupancy(occ_df, xlabel, f_name, occ_column_name, b_col_name=\"B_mean\", min_cond=0.4):\n",
    "\n",
    "    x = occ_df[occ_column_name]\n",
    "    y = occ_df['Expected Ratio']\n",
    "    marker_area = (occ_df[b_col_name]/5)**2\n",
    "\n",
    "    fig = plt.figure()\n",
    "    ax = fig.add_subplot(1, 1, 1)\n",
    "    ax.spines['bottom'].set_position('zero')\n",
    "    ax.spines['top'].set_visible(False)\n",
    "    ax.spines['right'].set_visible(False)\n",
    "    ax.xaxis.set_label_coords(0.5,-0.05)\n",
    "\n",
    "    plt.xlim(0,1.0)\n",
    "    plt.ylim(-0.1,1.1)\n",
    "    plt.xlabel(xlabel)\n",
    "    plt.ylabel(\"Ratio of labelled species\")\n",
    "\n",
    "    xline = np.linspace(0,1,100)\n",
    "    yline = xline\n",
    "    line_1, = ax.plot(xline,yline,'k:')\n",
    "\n",
    "    cond = (y<=1.0) & (y>=min_cond)\n",
    "    xFit = x[cond]\n",
    "    yFit = y[cond]\n",
    "    marker_area_fit = marker_area[cond]\n",
    "    marker_area_other = marker_area[~cond]\n",
    "\n",
    "    scatter_1 = ax.scatter(xFit,yFit,s=marker_area_fit)\n",
    "    scatter_2 = ax.scatter(x[~cond], y[~cond], marker_area_other, color='C0', alpha=0.3)\n",
    "\n",
    "    # https://stackoverflow.com/questions/47074423/how-to-get-default-blue-colour-of-matplotlib-pyplot-scatter\n",
    "    # https://matplotlib.org/users/dflt_style_changes.html#colors-color-cycles-and-color-maps\n",
    "\n",
    "    blue_circ = mlines.Line2D([], [], color='C0', marker='o', linestyle='None',\n",
    "                              markersize=10)\n",
    "    blue_circ_2 = mlines.Line2D([], [], color='C0', marker='o', linestyle='None',\n",
    "                              markersize=20)\n",
    "\n",
    "    trans_blue_circ = mlines.Line2D([], [], color='C0', marker='o', linestyle='None',\n",
    "                              markersize=10, alpha =.3)\n",
    "\n",
    "    fit = sm.OLS(yFit, sm.add_constant(xFit)).fit()\n",
    "\n",
    "    line_2 = plt.plot(np.linspace(0, 1, 100), np.linspace(0, 1, 100)*fit.params[1] +fit.params[0])\n",
    "\n",
    "    legend  = plt.legend((line_1, trans_blue_circ, line_2, blue_circ, blue_circ_2),\n",
    "               (\"Refined Occupancy = Ratio of Labelled Species\",\n",
    "                \"Data not fitted\",\n",
    "                \"Fit to ratio >= {}\\n {:.2f}x{:+.2f}. \\n R-squared {:.3f}\".format(\n",
    "                    min_cond,\n",
    "                fit.params[1],fit.params[0],fit.rsquared),\n",
    "                \"B factor = 50\",\n",
    "                \"B factor = 100\"), prop={'size': 12})\n",
    "\n",
    "    plt.savefig(f_name, dpi=600)\n",
    "\n",
    "occ_correct = \"occ_correct.csv\"\n",
    "occ_correct_df = pd.read_csv(occ_correct)\n",
    "mounted_df = pd.read_csv('mounted_ratios.csv')\n",
    "\n",
    "\n",
    "occ_df = pd.merge(occ_correct_df, mounted_df, right_on='  Mounted Crystal ID ', left_on='crystal')\n",
    "occ_df = occ_df[occ_df.state==\"bound\"]\n",
    "occ_df = occ_df[occ_df.resname==\"LIG\"]\n",
    "occ_df = occ_df[occ_df['occupancy group']==5]    \n",
    "\n",
    "plot_ratio_occupancy(occ_df=occ_df, \n",
    "                     f_name=\"Occupancy_B_factor_refmac_5.png\",\n",
    "                     xlabel=\"Crystallographic Occupancy (REFMAC5)\",\n",
    "                    occ_column_name=\"state occupancy\")"
   ]
  },
  {
   "cell_type": "code",
   "execution_count": null,
   "metadata": {},
   "outputs": [],
   "source": [
    "occ_df['Calibrated_exp_curve_fit_ratio'] = expon(occ_df['Expected Ratio'], *exp_popt)"
   ]
  },
  {
   "cell_type": "code",
   "execution_count": null,
   "metadata": {},
   "outputs": [],
   "source": [
    "plt.rcParams['figure.figsize'] = [10, 10]\n",
    "occ_df.plot(x='state occupancy', c='B_mean',kind='scatter',y='Calibrated_exp_curve_fit_ratio',colormap='viridis', sharex=False)\n",
    "plt.xlim(0,1)\n",
    "plt.ylim(0,1)\n",
    "plt.savefig('copy_atoms_occ_B_calibrated.png')"
   ]
  },
  {
   "cell_type": "code",
   "execution_count": null,
   "metadata": {},
   "outputs": [],
   "source": [
    "occ_df"
   ]
  },
  {
   "cell_type": "markdown",
   "metadata": {},
   "source": [
    "## Plotting Exhaustive search occupancy"
   ]
  },
  {
   "cell_type": "code",
   "execution_count": 193,
   "metadata": {},
   "outputs": [
    {
     "name": "stderr",
     "output_type": "stream",
     "text": [
      "/hdlocal/enelson/envs/mass_spec_ratio/lib/python3.6/site-packages/numpy/core/fromnumeric.py:2389: FutureWarning: Method .ptp is deprecated and will be removed in a future version. Use numpy.ptp instead.\n",
      "  return ptp(axis=axis, out=out, **kwargs)\n"
     ]
    },
    {
     "data": {
      "image/png": "[encoded data removed]",
      "text/plain": [
       "<Figure size 720x720 with 1 Axes>"
      ]
     },
     "metadata": {
      "needs_background": "light"
     },
     "output_type": "display_data"
    }
   ],
   "source": [
    "minima_csv = \"exhaustive_minima.csv\"\n",
    "\n",
    "minima_df = pd.read_csv(minima_csv)\n",
    "occ_df = pd.merge(minima_df, mounted_df, right_on='  Mounted Crystal ID ', left_on='crystal')\n",
    "\n",
    "plot_ratio_occupancy(occ_df=occ_df, \n",
    "                     f_name=\"Occupancy_B_factor_exhaustive.png\",\n",
    "                     xlabel=\"Crystallographic Occupancy (Exhaustive)\",\n",
    "                    occ_column_name=\"occupancy\",\n",
    "                    b_col_name=\"b_factor\",\n",
    "                    min_cond=0.0)"
   ]
  },
  {
   "cell_type": "code",
   "execution_count": 179,
   "metadata": {},
   "outputs": [
    {
     "data": {
      "text/html": [
       "<div>\n",
       "<style scoped>\n",
       "    .dataframe tbody tr th:only-of-type {\n",
       "        vertical-align: middle;\n",
       "    }\n",
       "\n",
       "    .dataframe tbody tr th {\n",
       "        vertical-align: top;\n",
       "    }\n",
       "\n",
       "    .dataframe thead th {\n",
       "        text-align: right;\n",
       "    }\n",
       "</style>\n",
       "<table border=\"1\" class=\"dataframe\">\n",
       "  <thead>\n",
       "    <tr style=\"text-align: right;\">\n",
       "      <th></th>\n",
       "      <th>crystal</th>\n",
       "      <th>occupancy</th>\n",
       "      <th>b_factor</th>\n",
       "      <th>fo_fc</th>\n",
       "      <th>Mounted Crystal ID</th>\n",
       "      <th>Crystal to be Mounted</th>\n",
       "      <th>Expected Ratio</th>\n",
       "    </tr>\n",
       "  </thead>\n",
       "  <tbody>\n",
       "    <tr>\n",
       "      <th>0</th>\n",
       "      <td>NUDT7A-x2160</td>\n",
       "      <td>0.60</td>\n",
       "      <td>31.582734</td>\n",
       "      <td>0.138629</td>\n",
       "      <td>NUDT7A-x2160</td>\n",
       "      <td>CI074434-E02a</td>\n",
       "      <td>0.70</td>\n",
       "    </tr>\n",
       "    <tr>\n",
       "      <th>1</th>\n",
       "      <td>NUDT7A-x2161</td>\n",
       "      <td>0.73</td>\n",
       "      <td>32.372302</td>\n",
       "      <td>0.098197</td>\n",
       "      <td>NUDT7A-x2161</td>\n",
       "      <td>CI074434-E02a</td>\n",
       "      <td>0.70</td>\n",
       "    </tr>\n",
       "    <tr>\n",
       "      <th>2</th>\n",
       "      <td>NUDT7A-x2162</td>\n",
       "      <td>0.43</td>\n",
       "      <td>63.165468</td>\n",
       "      <td>0.064282</td>\n",
       "      <td>NUDT7A-x2162</td>\n",
       "      <td>CI074433-A08c</td>\n",
       "      <td>0.00</td>\n",
       "    </tr>\n",
       "    <tr>\n",
       "      <th>3</th>\n",
       "      <td>NUDT7A-x2177</td>\n",
       "      <td>0.77</td>\n",
       "      <td>33.161871</td>\n",
       "      <td>0.074816</td>\n",
       "      <td>NUDT7A-x2177</td>\n",
       "      <td>CI074437-G07c</td>\n",
       "      <td>0.75</td>\n",
       "    </tr>\n",
       "    <tr>\n",
       "      <th>4</th>\n",
       "      <td>NUDT7A-x2175</td>\n",
       "      <td>0.74</td>\n",
       "      <td>30.793166</td>\n",
       "      <td>0.087589</td>\n",
       "      <td>NUDT7A-x2175</td>\n",
       "      <td>CI074437-G07c</td>\n",
       "      <td>0.75</td>\n",
       "    </tr>\n",
       "    <tr>\n",
       "      <th>5</th>\n",
       "      <td>NUDT7A-x2185</td>\n",
       "      <td>0.44</td>\n",
       "      <td>50.532375</td>\n",
       "      <td>0.085231</td>\n",
       "      <td>NUDT7A-x2185</td>\n",
       "      <td>CI074433-C09a</td>\n",
       "      <td>0.00</td>\n",
       "    </tr>\n",
       "    <tr>\n",
       "      <th>6</th>\n",
       "      <td>NUDT7A-x2186</td>\n",
       "      <td>0.47</td>\n",
       "      <td>62.375900</td>\n",
       "      <td>0.068015</td>\n",
       "      <td>NUDT7A-x2186</td>\n",
       "      <td>CI074433-C10a</td>\n",
       "      <td>0.00</td>\n",
       "    </tr>\n",
       "    <tr>\n",
       "      <th>7</th>\n",
       "      <td>NUDT7A-x2187</td>\n",
       "      <td>0.39</td>\n",
       "      <td>54.480216</td>\n",
       "      <td>0.076403</td>\n",
       "      <td>NUDT7A-x2187</td>\n",
       "      <td>CI074433-C11c</td>\n",
       "      <td>0.00</td>\n",
       "    </tr>\n",
       "    <tr>\n",
       "      <th>8</th>\n",
       "      <td>NUDT7A-x2188</td>\n",
       "      <td>0.44</td>\n",
       "      <td>56.059353</td>\n",
       "      <td>0.075125</td>\n",
       "      <td>NUDT7A-x2188</td>\n",
       "      <td>CI074433-E10c</td>\n",
       "      <td>0.10</td>\n",
       "    </tr>\n",
       "    <tr>\n",
       "      <th>9</th>\n",
       "      <td>NUDT7A-x2189</td>\n",
       "      <td>0.53</td>\n",
       "      <td>63.165468</td>\n",
       "      <td>0.076719</td>\n",
       "      <td>NUDT7A-x2189</td>\n",
       "      <td>CI074433-F03a</td>\n",
       "      <td>0.10</td>\n",
       "    </tr>\n",
       "    <tr>\n",
       "      <th>10</th>\n",
       "      <td>NUDT7A-x2190</td>\n",
       "      <td>0.42</td>\n",
       "      <td>46.584533</td>\n",
       "      <td>0.079274</td>\n",
       "      <td>NUDT7A-x2190</td>\n",
       "      <td>CI074433-F02a</td>\n",
       "      <td>0.10</td>\n",
       "    </tr>\n",
       "    <tr>\n",
       "      <th>11</th>\n",
       "      <td>NUDT7A-x2191</td>\n",
       "      <td>0.46</td>\n",
       "      <td>54.480216</td>\n",
       "      <td>0.074982</td>\n",
       "      <td>NUDT7A-x2191</td>\n",
       "      <td>CI074433-H03a</td>\n",
       "      <td>0.10</td>\n",
       "    </tr>\n",
       "    <tr>\n",
       "      <th>12</th>\n",
       "      <td>NUDT7A-x2192</td>\n",
       "      <td>0.54</td>\n",
       "      <td>52.901080</td>\n",
       "      <td>0.066226</td>\n",
       "      <td>NUDT7A-x2192</td>\n",
       "      <td>CI074436-A09a</td>\n",
       "      <td>0.20</td>\n",
       "    </tr>\n",
       "    <tr>\n",
       "      <th>13</th>\n",
       "      <td>NUDT7A-x2193</td>\n",
       "      <td>0.50</td>\n",
       "      <td>55.269785</td>\n",
       "      <td>0.070403</td>\n",
       "      <td>NUDT7A-x2193</td>\n",
       "      <td>CI074436-B03a</td>\n",
       "      <td>0.20</td>\n",
       "    </tr>\n",
       "    <tr>\n",
       "      <th>14</th>\n",
       "      <td>NUDT7A-x2194</td>\n",
       "      <td>0.56</td>\n",
       "      <td>54.480216</td>\n",
       "      <td>0.056962</td>\n",
       "      <td>NUDT7A-x2194</td>\n",
       "      <td>CI074436-C12a</td>\n",
       "      <td>0.20</td>\n",
       "    </tr>\n",
       "    <tr>\n",
       "      <th>15</th>\n",
       "      <td>NUDT7A-x2195</td>\n",
       "      <td>0.51</td>\n",
       "      <td>50.532375</td>\n",
       "      <td>0.082785</td>\n",
       "      <td>NUDT7A-x2195</td>\n",
       "      <td>CI074436-C04a</td>\n",
       "      <td>0.20</td>\n",
       "    </tr>\n",
       "    <tr>\n",
       "      <th>16</th>\n",
       "      <td>NUDT7A-x2196</td>\n",
       "      <td>0.49</td>\n",
       "      <td>46.584533</td>\n",
       "      <td>0.094440</td>\n",
       "      <td>NUDT7A-x2196</td>\n",
       "      <td>CI074436-E07c</td>\n",
       "      <td>0.30</td>\n",
       "    </tr>\n",
       "    <tr>\n",
       "      <th>17</th>\n",
       "      <td>NUDT7A-x2197</td>\n",
       "      <td>0.49</td>\n",
       "      <td>48.163669</td>\n",
       "      <td>0.073156</td>\n",
       "      <td>NUDT7A-x2197</td>\n",
       "      <td>CI074436-F06a</td>\n",
       "      <td>0.30</td>\n",
       "    </tr>\n",
       "    <tr>\n",
       "      <th>18</th>\n",
       "      <td>NUDT7A-x2198</td>\n",
       "      <td>0.52</td>\n",
       "      <td>56.848921</td>\n",
       "      <td>0.065364</td>\n",
       "      <td>NUDT7A-x2198</td>\n",
       "      <td>CI074436-H01a</td>\n",
       "      <td>0.30</td>\n",
       "    </tr>\n",
       "    <tr>\n",
       "      <th>19</th>\n",
       "      <td>NUDT7A-x2199</td>\n",
       "      <td>0.56</td>\n",
       "      <td>51.321943</td>\n",
       "      <td>0.069439</td>\n",
       "      <td>NUDT7A-x2199</td>\n",
       "      <td>CI074436-F02a</td>\n",
       "      <td>0.30</td>\n",
       "    </tr>\n",
       "    <tr>\n",
       "      <th>20</th>\n",
       "      <td>NUDT7A-x2200</td>\n",
       "      <td>0.76</td>\n",
       "      <td>43.426259</td>\n",
       "      <td>0.058672</td>\n",
       "      <td>NUDT7A-x2200</td>\n",
       "      <td>CI074437-C12a</td>\n",
       "      <td>1.00</td>\n",
       "    </tr>\n",
       "    <tr>\n",
       "      <th>21</th>\n",
       "      <td>NUDT7A-x2201</td>\n",
       "      <td>0.81</td>\n",
       "      <td>31.582734</td>\n",
       "      <td>0.079607</td>\n",
       "      <td>NUDT7A-x2201</td>\n",
       "      <td>CI074437-D12a</td>\n",
       "      <td>1.00</td>\n",
       "    </tr>\n",
       "    <tr>\n",
       "      <th>22</th>\n",
       "      <td>NUDT7A-x2202</td>\n",
       "      <td>0.79</td>\n",
       "      <td>35.530576</td>\n",
       "      <td>0.072863</td>\n",
       "      <td>NUDT7A-x2202</td>\n",
       "      <td>CI074437-A04c</td>\n",
       "      <td>1.00</td>\n",
       "    </tr>\n",
       "    <tr>\n",
       "      <th>23</th>\n",
       "      <td>NUDT7A-x2203</td>\n",
       "      <td>0.73</td>\n",
       "      <td>40.267986</td>\n",
       "      <td>0.074530</td>\n",
       "      <td>NUDT7A-x2203</td>\n",
       "      <td>CI074437-B03a</td>\n",
       "      <td>1.00</td>\n",
       "    </tr>\n",
       "    <tr>\n",
       "      <th>24</th>\n",
       "      <td>NUDT7A-x2204</td>\n",
       "      <td>0.66</td>\n",
       "      <td>41.847123</td>\n",
       "      <td>0.060200</td>\n",
       "      <td>NUDT7A-x2204</td>\n",
       "      <td>CI074437-E01a</td>\n",
       "      <td>0.75</td>\n",
       "    </tr>\n",
       "    <tr>\n",
       "      <th>25</th>\n",
       "      <td>NUDT7A-x2205</td>\n",
       "      <td>0.72</td>\n",
       "      <td>37.109713</td>\n",
       "      <td>0.071465</td>\n",
       "      <td>NUDT7A-x2205</td>\n",
       "      <td>CI074437-G08a</td>\n",
       "      <td>0.75</td>\n",
       "    </tr>\n",
       "    <tr>\n",
       "      <th>26</th>\n",
       "      <td>NUDT7A-x2206</td>\n",
       "      <td>0.69</td>\n",
       "      <td>49.742806</td>\n",
       "      <td>0.057963</td>\n",
       "      <td>NUDT7A-x2206</td>\n",
       "      <td>CI074437-E08a</td>\n",
       "      <td>0.75</td>\n",
       "    </tr>\n",
       "    <tr>\n",
       "      <th>27</th>\n",
       "      <td>NUDT7A-x2207</td>\n",
       "      <td>0.69</td>\n",
       "      <td>33.951439</td>\n",
       "      <td>0.082334</td>\n",
       "      <td>NUDT7A-x2207</td>\n",
       "      <td>CI074437-F09c</td>\n",
       "      <td>0.75</td>\n",
       "    </tr>\n",
       "    <tr>\n",
       "      <th>28</th>\n",
       "      <td>NUDT7A-x2208</td>\n",
       "      <td>0.67</td>\n",
       "      <td>46.584533</td>\n",
       "      <td>0.071200</td>\n",
       "      <td>NUDT7A-x2208</td>\n",
       "      <td>CI074434-D05c</td>\n",
       "      <td>0.60</td>\n",
       "    </tr>\n",
       "    <tr>\n",
       "      <th>29</th>\n",
       "      <td>NUDT7A-x2209</td>\n",
       "      <td>0.59</td>\n",
       "      <td>40.267986</td>\n",
       "      <td>0.080198</td>\n",
       "      <td>NUDT7A-x2209</td>\n",
       "      <td>CI074434-D06c</td>\n",
       "      <td>0.60</td>\n",
       "    </tr>\n",
       "    <tr>\n",
       "      <th>30</th>\n",
       "      <td>NUDT7A-x2210</td>\n",
       "      <td>0.60</td>\n",
       "      <td>52.901080</td>\n",
       "      <td>0.064949</td>\n",
       "      <td>NUDT7A-x2210</td>\n",
       "      <td>CI074434-B12c</td>\n",
       "      <td>0.60</td>\n",
       "    </tr>\n",
       "    <tr>\n",
       "      <th>31</th>\n",
       "      <td>NUDT7A-x2211</td>\n",
       "      <td>0.62</td>\n",
       "      <td>47.374101</td>\n",
       "      <td>0.076940</td>\n",
       "      <td>NUDT7A-x2211</td>\n",
       "      <td>CI074434-B12d</td>\n",
       "      <td>0.60</td>\n",
       "    </tr>\n",
       "    <tr>\n",
       "      <th>32</th>\n",
       "      <td>NUDT7A-x2212</td>\n",
       "      <td>0.67</td>\n",
       "      <td>33.161871</td>\n",
       "      <td>0.087658</td>\n",
       "      <td>NUDT7A-x2212</td>\n",
       "      <td>CI074434-F02c</td>\n",
       "      <td>0.70</td>\n",
       "    </tr>\n",
       "    <tr>\n",
       "      <th>33</th>\n",
       "      <td>NUDT7A-x2213</td>\n",
       "      <td>0.68</td>\n",
       "      <td>47.374101</td>\n",
       "      <td>0.068991</td>\n",
       "      <td>NUDT7A-x2213</td>\n",
       "      <td>CI074434-F03a</td>\n",
       "      <td>0.70</td>\n",
       "    </tr>\n",
       "    <tr>\n",
       "      <th>34</th>\n",
       "      <td>NUDT7A-x2214</td>\n",
       "      <td>0.71</td>\n",
       "      <td>49.742806</td>\n",
       "      <td>0.062777</td>\n",
       "      <td>NUDT7A-x2214</td>\n",
       "      <td>CI074434-F05a</td>\n",
       "      <td>0.70</td>\n",
       "    </tr>\n",
       "    <tr>\n",
       "      <th>35</th>\n",
       "      <td>NUDT7A-x2215</td>\n",
       "      <td>0.69</td>\n",
       "      <td>38.688849</td>\n",
       "      <td>0.081667</td>\n",
       "      <td>NUDT7A-x2215</td>\n",
       "      <td>CI074434-H05a</td>\n",
       "      <td>0.70</td>\n",
       "    </tr>\n",
       "    <tr>\n",
       "      <th>36</th>\n",
       "      <td>NUDT7A-x2216</td>\n",
       "      <td>0.75</td>\n",
       "      <td>35.530576</td>\n",
       "      <td>0.077682</td>\n",
       "      <td>NUDT7A-x2216</td>\n",
       "      <td>CI074438-B06c</td>\n",
       "      <td>0.80</td>\n",
       "    </tr>\n",
       "    <tr>\n",
       "      <th>37</th>\n",
       "      <td>NUDT7A-x2217</td>\n",
       "      <td>0.76</td>\n",
       "      <td>32.372302</td>\n",
       "      <td>0.075988</td>\n",
       "      <td>NUDT7A-x2217</td>\n",
       "      <td>CI074438-B06c</td>\n",
       "      <td>0.80</td>\n",
       "    </tr>\n",
       "    <tr>\n",
       "      <th>38</th>\n",
       "      <td>NUDT7A-x2218</td>\n",
       "      <td>0.75</td>\n",
       "      <td>36.320144</td>\n",
       "      <td>0.071464</td>\n",
       "      <td>NUDT7A-x2218</td>\n",
       "      <td>CI074438-B06a</td>\n",
       "      <td>0.80</td>\n",
       "    </tr>\n",
       "    <tr>\n",
       "      <th>39</th>\n",
       "      <td>NUDT7A-x2219</td>\n",
       "      <td>0.76</td>\n",
       "      <td>35.530576</td>\n",
       "      <td>0.073113</td>\n",
       "      <td>NUDT7A-x2219</td>\n",
       "      <td>CI074438-B06a</td>\n",
       "      <td>0.80</td>\n",
       "    </tr>\n",
       "    <tr>\n",
       "      <th>40</th>\n",
       "      <td>NUDT7A-x2220</td>\n",
       "      <td>0.71</td>\n",
       "      <td>57.638490</td>\n",
       "      <td>0.058592</td>\n",
       "      <td>NUDT7A-x2220</td>\n",
       "      <td>CI074438-F05a</td>\n",
       "      <td>0.90</td>\n",
       "    </tr>\n",
       "    <tr>\n",
       "      <th>41</th>\n",
       "      <td>NUDT7A-x2221</td>\n",
       "      <td>0.76</td>\n",
       "      <td>27.634892</td>\n",
       "      <td>0.085868</td>\n",
       "      <td>NUDT7A-x2221</td>\n",
       "      <td>CI074438-F05c</td>\n",
       "      <td>0.90</td>\n",
       "    </tr>\n",
       "    <tr>\n",
       "      <th>42</th>\n",
       "      <td>NUDT7A-x2222</td>\n",
       "      <td>0.78</td>\n",
       "      <td>39.478418</td>\n",
       "      <td>0.064250</td>\n",
       "      <td>NUDT7A-x2222</td>\n",
       "      <td>CI074438-F04c</td>\n",
       "      <td>0.90</td>\n",
       "    </tr>\n",
       "    <tr>\n",
       "      <th>43</th>\n",
       "      <td>NUDT7A-x2223</td>\n",
       "      <td>0.70</td>\n",
       "      <td>38.688849</td>\n",
       "      <td>0.069040</td>\n",
       "      <td>NUDT7A-x2223</td>\n",
       "      <td>CI074438-F05a</td>\n",
       "      <td>0.90</td>\n",
       "    </tr>\n",
       "    <tr>\n",
       "      <th>44</th>\n",
       "      <td>NUDT7A-x2224</td>\n",
       "      <td>0.53</td>\n",
       "      <td>35.530576</td>\n",
       "      <td>0.108663</td>\n",
       "      <td>NUDT7A-x2224</td>\n",
       "      <td>CI074435-G11a</td>\n",
       "      <td>0.50</td>\n",
       "    </tr>\n",
       "    <tr>\n",
       "      <th>45</th>\n",
       "      <td>NUDT7A-x2225</td>\n",
       "      <td>0.63</td>\n",
       "      <td>42.636691</td>\n",
       "      <td>0.087296</td>\n",
       "      <td>NUDT7A-x2225</td>\n",
       "      <td>CI074435-H09a</td>\n",
       "      <td>0.50</td>\n",
       "    </tr>\n",
       "    <tr>\n",
       "      <th>46</th>\n",
       "      <td>NUDT7A-x2226</td>\n",
       "      <td>0.60</td>\n",
       "      <td>38.688849</td>\n",
       "      <td>0.092117</td>\n",
       "      <td>NUDT7A-x2226</td>\n",
       "      <td>CI074435-H09a</td>\n",
       "      <td>0.50</td>\n",
       "    </tr>\n",
       "    <tr>\n",
       "      <th>47</th>\n",
       "      <td>NUDT7A-x2227</td>\n",
       "      <td>0.62</td>\n",
       "      <td>52.901080</td>\n",
       "      <td>0.065050</td>\n",
       "      <td>NUDT7A-x2227</td>\n",
       "      <td>CI074435-G01a</td>\n",
       "      <td>0.50</td>\n",
       "    </tr>\n",
       "    <tr>\n",
       "      <th>48</th>\n",
       "      <td>NUDT7A-x2228</td>\n",
       "      <td>0.51</td>\n",
       "      <td>43.426259</td>\n",
       "      <td>0.086320</td>\n",
       "      <td>NUDT7A-x2228</td>\n",
       "      <td>CI074435-A05c</td>\n",
       "      <td>0.40</td>\n",
       "    </tr>\n",
       "    <tr>\n",
       "      <th>49</th>\n",
       "      <td>NUDT7A-x2229</td>\n",
       "      <td>0.50</td>\n",
       "      <td>41.847123</td>\n",
       "      <td>0.083128</td>\n",
       "      <td>NUDT7A-x2229</td>\n",
       "      <td>CI074435-B05a</td>\n",
       "      <td>0.40</td>\n",
       "    </tr>\n",
       "    <tr>\n",
       "      <th>50</th>\n",
       "      <td>NUDT7A-x2230</td>\n",
       "      <td>0.60</td>\n",
       "      <td>43.426259</td>\n",
       "      <td>0.078895</td>\n",
       "      <td>NUDT7A-x2230</td>\n",
       "      <td>CI074435-B12c</td>\n",
       "      <td>0.40</td>\n",
       "    </tr>\n",
       "    <tr>\n",
       "      <th>51</th>\n",
       "      <td>NUDT7A-x2231</td>\n",
       "      <td>0.44</td>\n",
       "      <td>51.321943</td>\n",
       "      <td>0.085738</td>\n",
       "      <td>NUDT7A-x2231</td>\n",
       "      <td>CI074433-B11c</td>\n",
       "      <td>0.00</td>\n",
       "    </tr>\n",
       "    <tr>\n",
       "      <th>52</th>\n",
       "      <td>NUDT7A-x2232</td>\n",
       "      <td>0.61</td>\n",
       "      <td>37.899281</td>\n",
       "      <td>0.095240</td>\n",
       "      <td>NUDT7A-x2232</td>\n",
       "      <td>CI074435-C05c</td>\n",
       "      <td>0.40</td>\n",
       "    </tr>\n",
       "  </tbody>\n",
       "</table>\n",
       "</div>"
      ],
      "text/plain": [
       "         crystal  occupancy   b_factor     fo_fc   Mounted Crystal ID   \\\n",
       "0   NUDT7A-x2160       0.60  31.582734  0.138629          NUDT7A-x2160   \n",
       "1   NUDT7A-x2161       0.73  32.372302  0.098197          NUDT7A-x2161   \n",
       "2   NUDT7A-x2162       0.43  63.165468  0.064282          NUDT7A-x2162   \n",
       "3   NUDT7A-x2177       0.77  33.161871  0.074816          NUDT7A-x2177   \n",
       "4   NUDT7A-x2175       0.74  30.793166  0.087589          NUDT7A-x2175   \n",
       "5   NUDT7A-x2185       0.44  50.532375  0.085231          NUDT7A-x2185   \n",
       "6   NUDT7A-x2186       0.47  62.375900  0.068015          NUDT7A-x2186   \n",
       "7   NUDT7A-x2187       0.39  54.480216  0.076403          NUDT7A-x2187   \n",
       "8   NUDT7A-x2188       0.44  56.059353  0.075125          NUDT7A-x2188   \n",
       "9   NUDT7A-x2189       0.53  63.165468  0.076719          NUDT7A-x2189   \n",
       "10  NUDT7A-x2190       0.42  46.584533  0.079274          NUDT7A-x2190   \n",
       "11  NUDT7A-x2191       0.46  54.480216  0.074982          NUDT7A-x2191   \n",
       "12  NUDT7A-x2192       0.54  52.901080  0.066226          NUDT7A-x2192   \n",
       "13  NUDT7A-x2193       0.50  55.269785  0.070403          NUDT7A-x2193   \n",
       "14  NUDT7A-x2194       0.56  54.480216  0.056962          NUDT7A-x2194   \n",
       "15  NUDT7A-x2195       0.51  50.532375  0.082785          NUDT7A-x2195   \n",
       "16  NUDT7A-x2196       0.49  46.584533  0.094440          NUDT7A-x2196   \n",
       "17  NUDT7A-x2197       0.49  48.163669  0.073156          NUDT7A-x2197   \n",
       "18  NUDT7A-x2198       0.52  56.848921  0.065364          NUDT7A-x2198   \n",
       "19  NUDT7A-x2199       0.56  51.321943  0.069439          NUDT7A-x2199   \n",
       "20  NUDT7A-x2200       0.76  43.426259  0.058672          NUDT7A-x2200   \n",
       "21  NUDT7A-x2201       0.81  31.582734  0.079607          NUDT7A-x2201   \n",
       "22  NUDT7A-x2202       0.79  35.530576  0.072863          NUDT7A-x2202   \n",
       "23  NUDT7A-x2203       0.73  40.267986  0.074530          NUDT7A-x2203   \n",
       "24  NUDT7A-x2204       0.66  41.847123  0.060200          NUDT7A-x2204   \n",
       "25  NUDT7A-x2205       0.72  37.109713  0.071465          NUDT7A-x2205   \n",
       "26  NUDT7A-x2206       0.69  49.742806  0.057963          NUDT7A-x2206   \n",
       "27  NUDT7A-x2207       0.69  33.951439  0.082334          NUDT7A-x2207   \n",
       "28  NUDT7A-x2208       0.67  46.584533  0.071200          NUDT7A-x2208   \n",
       "29  NUDT7A-x2209       0.59  40.267986  0.080198          NUDT7A-x2209   \n",
       "30  NUDT7A-x2210       0.60  52.901080  0.064949          NUDT7A-x2210   \n",
       "31  NUDT7A-x2211       0.62  47.374101  0.076940          NUDT7A-x2211   \n",
       "32  NUDT7A-x2212       0.67  33.161871  0.087658          NUDT7A-x2212   \n",
       "33  NUDT7A-x2213       0.68  47.374101  0.068991          NUDT7A-x2213   \n",
       "34  NUDT7A-x2214       0.71  49.742806  0.062777          NUDT7A-x2214   \n",
       "35  NUDT7A-x2215       0.69  38.688849  0.081667          NUDT7A-x2215   \n",
       "36  NUDT7A-x2216       0.75  35.530576  0.077682          NUDT7A-x2216   \n",
       "37  NUDT7A-x2217       0.76  32.372302  0.075988          NUDT7A-x2217   \n",
       "38  NUDT7A-x2218       0.75  36.320144  0.071464          NUDT7A-x2218   \n",
       "39  NUDT7A-x2219       0.76  35.530576  0.073113          NUDT7A-x2219   \n",
       "40  NUDT7A-x2220       0.71  57.638490  0.058592          NUDT7A-x2220   \n",
       "41  NUDT7A-x2221       0.76  27.634892  0.085868          NUDT7A-x2221   \n",
       "42  NUDT7A-x2222       0.78  39.478418  0.064250          NUDT7A-x2222   \n",
       "43  NUDT7A-x2223       0.70  38.688849  0.069040          NUDT7A-x2223   \n",
       "44  NUDT7A-x2224       0.53  35.530576  0.108663          NUDT7A-x2224   \n",
       "45  NUDT7A-x2225       0.63  42.636691  0.087296          NUDT7A-x2225   \n",
       "46  NUDT7A-x2226       0.60  38.688849  0.092117          NUDT7A-x2226   \n",
       "47  NUDT7A-x2227       0.62  52.901080  0.065050          NUDT7A-x2227   \n",
       "48  NUDT7A-x2228       0.51  43.426259  0.086320          NUDT7A-x2228   \n",
       "49  NUDT7A-x2229       0.50  41.847123  0.083128          NUDT7A-x2229   \n",
       "50  NUDT7A-x2230       0.60  43.426259  0.078895          NUDT7A-x2230   \n",
       "51  NUDT7A-x2231       0.44  51.321943  0.085738          NUDT7A-x2231   \n",
       "52  NUDT7A-x2232       0.61  37.899281  0.095240          NUDT7A-x2232   \n",
       "\n",
       "     Crystal to be Mounted   Expected Ratio  \n",
       "0             CI074434-E02a            0.70  \n",
       "1             CI074434-E02a            0.70  \n",
       "2             CI074433-A08c            0.00  \n",
       "3             CI074437-G07c            0.75  \n",
       "4             CI074437-G07c            0.75  \n",
       "5             CI074433-C09a            0.00  \n",
       "6             CI074433-C10a            0.00  \n",
       "7             CI074433-C11c            0.00  \n",
       "8             CI074433-E10c            0.10  \n",
       "9             CI074433-F03a            0.10  \n",
       "10            CI074433-F02a            0.10  \n",
       "11            CI074433-H03a            0.10  \n",
       "12            CI074436-A09a            0.20  \n",
       "13            CI074436-B03a            0.20  \n",
       "14            CI074436-C12a            0.20  \n",
       "15            CI074436-C04a            0.20  \n",
       "16            CI074436-E07c            0.30  \n",
       "17            CI074436-F06a            0.30  \n",
       "18            CI074436-H01a            0.30  \n",
       "19            CI074436-F02a            0.30  \n",
       "20            CI074437-C12a            1.00  \n",
       "21            CI074437-D12a            1.00  \n",
       "22            CI074437-A04c            1.00  \n",
       "23            CI074437-B03a            1.00  \n",
       "24            CI074437-E01a            0.75  \n",
       "25            CI074437-G08a            0.75  \n",
       "26            CI074437-E08a            0.75  \n",
       "27            CI074437-F09c            0.75  \n",
       "28            CI074434-D05c            0.60  \n",
       "29            CI074434-D06c            0.60  \n",
       "30            CI074434-B12c            0.60  \n",
       "31            CI074434-B12d            0.60  \n",
       "32            CI074434-F02c            0.70  \n",
       "33            CI074434-F03a            0.70  \n",
       "34            CI074434-F05a            0.70  \n",
       "35            CI074434-H05a            0.70  \n",
       "36            CI074438-B06c            0.80  \n",
       "37            CI074438-B06c            0.80  \n",
       "38            CI074438-B06a            0.80  \n",
       "39            CI074438-B06a            0.80  \n",
       "40            CI074438-F05a            0.90  \n",
       "41            CI074438-F05c            0.90  \n",
       "42            CI074438-F04c            0.90  \n",
       "43            CI074438-F05a            0.90  \n",
       "44            CI074435-G11a            0.50  \n",
       "45            CI074435-H09a            0.50  \n",
       "46            CI074435-H09a            0.50  \n",
       "47            CI074435-G01a            0.50  \n",
       "48            CI074435-A05c            0.40  \n",
       "49            CI074435-B05a            0.40  \n",
       "50            CI074435-B12c            0.40  \n",
       "51            CI074433-B11c            0.00  \n",
       "52            CI074435-C05c            0.40  "
      ]
     },
     "execution_count": 179,
     "metadata": {},
     "output_type": "execute_result"
    }
   ],
   "source": [
    "occ_df"
   ]
  },
  {
   "cell_type": "code",
   "execution_count": 175,
   "metadata": {},
   "outputs": [
    {
     "ename": "KeyError",
     "evalue": "'Calibrated_exp_curve_fit_ratio'",
     "output_type": "error",
     "traceback": [
      "\u001b[0;31m---------------------------------------------------------------------------\u001b[0m",
      "\u001b[0;31mKeyError\u001b[0m                                  Traceback (most recent call last)",
      "\u001b[0;32m/hdlocal/enelson/envs/mass_spec_ratio/lib/python3.6/site-packages/pandas/core/indexes/base.py\u001b[0m in \u001b[0;36mget_loc\u001b[0;34m(self, key, method, tolerance)\u001b[0m\n\u001b[1;32m   2656\u001b[0m             \u001b[0;32mtry\u001b[0m\u001b[0;34m:\u001b[0m\u001b[0;34m\u001b[0m\u001b[0;34m\u001b[0m\u001b[0m\n\u001b[0;32m-> 2657\u001b[0;31m                 \u001b[0;32mreturn\u001b[0m \u001b[0mself\u001b[0m\u001b[0;34m.\u001b[0m\u001b[0m_engine\u001b[0m\u001b[0;34m.\u001b[0m\u001b[0mget_loc\u001b[0m\u001b[0;34m(\u001b[0m\u001b[0mkey\u001b[0m\u001b[0;34m)\u001b[0m\u001b[0;34m\u001b[0m\u001b[0;34m\u001b[0m\u001b[0m\n\u001b[0m\u001b[1;32m   2658\u001b[0m             \u001b[0;32mexcept\u001b[0m \u001b[0mKeyError\u001b[0m\u001b[0;34m:\u001b[0m\u001b[0;34m\u001b[0m\u001b[0;34m\u001b[0m\u001b[0m\n",
      "\u001b[0;32mpandas/_libs/index.pyx\u001b[0m in \u001b[0;36mpandas._libs.index.IndexEngine.get_loc\u001b[0;34m()\u001b[0m\n",
      "\u001b[0;32mpandas/_libs/index.pyx\u001b[0m in \u001b[0;36mpandas._libs.index.IndexEngine.get_loc\u001b[0;34m()\u001b[0m\n",
      "\u001b[0;32mpandas/_libs/hashtable_class_helper.pxi\u001b[0m in \u001b[0;36mpandas._libs.hashtable.PyObjectHashTable.get_item\u001b[0;34m()\u001b[0m\n",
      "\u001b[0;32mpandas/_libs/hashtable_class_helper.pxi\u001b[0m in \u001b[0;36mpandas._libs.hashtable.PyObjectHashTable.get_item\u001b[0;34m()\u001b[0m\n",
      "\u001b[0;31mKeyError\u001b[0m: 'Calibrated_exp_curve_fit_ratio'",
      "\nDuring handling of the above exception, another exception occurred:\n",
      "\u001b[0;31mKeyError\u001b[0m                                  Traceback (most recent call last)",
      "\u001b[0;32m<ipython-input-175-16944f12a720>\u001b[0m in \u001b[0;36m<module>\u001b[0;34m()\u001b[0m\n\u001b[1;32m      1\u001b[0m \u001b[0mplt\u001b[0m\u001b[0;34m.\u001b[0m\u001b[0mrcParams\u001b[0m\u001b[0;34m[\u001b[0m\u001b[0;34m'figure.figsize'\u001b[0m\u001b[0;34m]\u001b[0m \u001b[0;34m=\u001b[0m \u001b[0;34m[\u001b[0m\u001b[0;36m10\u001b[0m\u001b[0;34m,\u001b[0m \u001b[0;36m10\u001b[0m\u001b[0;34m]\u001b[0m\u001b[0;34m\u001b[0m\u001b[0;34m\u001b[0m\u001b[0m\n\u001b[0;32m----> 2\u001b[0;31m \u001b[0mocc_df\u001b[0m\u001b[0;34m.\u001b[0m\u001b[0mplot\u001b[0m\u001b[0;34m(\u001b[0m\u001b[0mx\u001b[0m\u001b[0;34m=\u001b[0m\u001b[0;34m'occupancy'\u001b[0m\u001b[0;34m,\u001b[0m \u001b[0mc\u001b[0m\u001b[0;34m=\u001b[0m\u001b[0;34m'b_factor'\u001b[0m\u001b[0;34m,\u001b[0m\u001b[0mkind\u001b[0m\u001b[0;34m=\u001b[0m\u001b[0;34m'scatter'\u001b[0m\u001b[0;34m,\u001b[0m\u001b[0my\u001b[0m\u001b[0;34m=\u001b[0m\u001b[0;34m'Calibrated_exp_curve_fit_ratio'\u001b[0m\u001b[0;34m,\u001b[0m\u001b[0mcolormap\u001b[0m\u001b[0;34m=\u001b[0m\u001b[0;34m'viridis'\u001b[0m\u001b[0;34m,\u001b[0m \u001b[0msharex\u001b[0m\u001b[0;34m=\u001b[0m\u001b[0;32mFalse\u001b[0m\u001b[0;34m)\u001b[0m\u001b[0;34m\u001b[0m\u001b[0;34m\u001b[0m\u001b[0m\n\u001b[0m\u001b[1;32m      3\u001b[0m \u001b[0mplt\u001b[0m\u001b[0;34m.\u001b[0m\u001b[0mxlim\u001b[0m\u001b[0;34m(\u001b[0m\u001b[0;36m0\u001b[0m\u001b[0;34m,\u001b[0m\u001b[0;36m1\u001b[0m\u001b[0;34m)\u001b[0m\u001b[0;34m\u001b[0m\u001b[0;34m\u001b[0m\u001b[0m\n\u001b[1;32m      4\u001b[0m \u001b[0mplt\u001b[0m\u001b[0;34m.\u001b[0m\u001b[0mylim\u001b[0m\u001b[0;34m(\u001b[0m\u001b[0;36m0\u001b[0m\u001b[0;34m,\u001b[0m\u001b[0;36m1\u001b[0m\u001b[0;34m)\u001b[0m\u001b[0;34m\u001b[0m\u001b[0;34m\u001b[0m\u001b[0m\n\u001b[1;32m      5\u001b[0m \u001b[0mplt\u001b[0m\u001b[0;34m.\u001b[0m\u001b[0msavefig\u001b[0m\u001b[0;34m(\u001b[0m\u001b[0;34m'exhaustive_occ_B_calibrated.png'\u001b[0m\u001b[0;34m)\u001b[0m\u001b[0;34m\u001b[0m\u001b[0;34m\u001b[0m\u001b[0m\n",
      "\u001b[0;32m/hdlocal/enelson/envs/mass_spec_ratio/lib/python3.6/site-packages/pandas/plotting/_core.py\u001b[0m in \u001b[0;36m__call__\u001b[0;34m(self, x, y, kind, ax, subplots, sharex, sharey, layout, figsize, use_index, title, grid, legend, style, logx, logy, loglog, xticks, yticks, xlim, ylim, rot, fontsize, colormap, table, yerr, xerr, secondary_y, sort_columns, **kwds)\u001b[0m\n\u001b[1;32m   2940\u001b[0m                           \u001b[0mfontsize\u001b[0m\u001b[0;34m=\u001b[0m\u001b[0mfontsize\u001b[0m\u001b[0;34m,\u001b[0m \u001b[0mcolormap\u001b[0m\u001b[0;34m=\u001b[0m\u001b[0mcolormap\u001b[0m\u001b[0;34m,\u001b[0m \u001b[0mtable\u001b[0m\u001b[0;34m=\u001b[0m\u001b[0mtable\u001b[0m\u001b[0;34m,\u001b[0m\u001b[0;34m\u001b[0m\u001b[0;34m\u001b[0m\u001b[0m\n\u001b[1;32m   2941\u001b[0m                           \u001b[0myerr\u001b[0m\u001b[0;34m=\u001b[0m\u001b[0myerr\u001b[0m\u001b[0;34m,\u001b[0m \u001b[0mxerr\u001b[0m\u001b[0;34m=\u001b[0m\u001b[0mxerr\u001b[0m\u001b[0;34m,\u001b[0m \u001b[0msecondary_y\u001b[0m\u001b[0;34m=\u001b[0m\u001b[0msecondary_y\u001b[0m\u001b[0;34m,\u001b[0m\u001b[0;34m\u001b[0m\u001b[0;34m\u001b[0m\u001b[0m\n\u001b[0;32m-> 2942\u001b[0;31m                           sort_columns=sort_columns, **kwds)\n\u001b[0m\u001b[1;32m   2943\u001b[0m     \u001b[0m__call__\u001b[0m\u001b[0;34m.\u001b[0m\u001b[0m__doc__\u001b[0m \u001b[0;34m=\u001b[0m \u001b[0mplot_frame\u001b[0m\u001b[0;34m.\u001b[0m\u001b[0m__doc__\u001b[0m\u001b[0;34m\u001b[0m\u001b[0;34m\u001b[0m\u001b[0m\n\u001b[1;32m   2944\u001b[0m \u001b[0;34m\u001b[0m\u001b[0m\n",
      "\u001b[0;32m/hdlocal/enelson/envs/mass_spec_ratio/lib/python3.6/site-packages/pandas/plotting/_core.py\u001b[0m in \u001b[0;36mplot_frame\u001b[0;34m(data, x, y, kind, ax, subplots, sharex, sharey, layout, figsize, use_index, title, grid, legend, style, logx, logy, loglog, xticks, yticks, xlim, ylim, rot, fontsize, colormap, table, yerr, xerr, secondary_y, sort_columns, **kwds)\u001b[0m\n\u001b[1;32m   1971\u001b[0m                  \u001b[0myerr\u001b[0m\u001b[0;34m=\u001b[0m\u001b[0myerr\u001b[0m\u001b[0;34m,\u001b[0m \u001b[0mxerr\u001b[0m\u001b[0;34m=\u001b[0m\u001b[0mxerr\u001b[0m\u001b[0;34m,\u001b[0m\u001b[0;34m\u001b[0m\u001b[0;34m\u001b[0m\u001b[0m\n\u001b[1;32m   1972\u001b[0m                  \u001b[0msecondary_y\u001b[0m\u001b[0;34m=\u001b[0m\u001b[0msecondary_y\u001b[0m\u001b[0;34m,\u001b[0m \u001b[0msort_columns\u001b[0m\u001b[0;34m=\u001b[0m\u001b[0msort_columns\u001b[0m\u001b[0;34m,\u001b[0m\u001b[0;34m\u001b[0m\u001b[0;34m\u001b[0m\u001b[0m\n\u001b[0;32m-> 1973\u001b[0;31m                  **kwds)\n\u001b[0m\u001b[1;32m   1974\u001b[0m \u001b[0;34m\u001b[0m\u001b[0m\n\u001b[1;32m   1975\u001b[0m \u001b[0;34m\u001b[0m\u001b[0m\n",
      "\u001b[0;32m/hdlocal/enelson/envs/mass_spec_ratio/lib/python3.6/site-packages/pandas/plotting/_core.py\u001b[0m in \u001b[0;36m_plot\u001b[0;34m(data, x, y, subplots, ax, kind, **kwds)\u001b[0m\n\u001b[1;32m   1738\u001b[0m         \u001b[0;32mif\u001b[0m \u001b[0misinstance\u001b[0m\u001b[0;34m(\u001b[0m\u001b[0mdata\u001b[0m\u001b[0;34m,\u001b[0m \u001b[0mABCDataFrame\u001b[0m\u001b[0;34m)\u001b[0m\u001b[0;34m:\u001b[0m\u001b[0;34m\u001b[0m\u001b[0;34m\u001b[0m\u001b[0m\n\u001b[1;32m   1739\u001b[0m             plot_obj = klass(data, x=x, y=y, subplots=subplots, ax=ax,\n\u001b[0;32m-> 1740\u001b[0;31m                              kind=kind, **kwds)\n\u001b[0m\u001b[1;32m   1741\u001b[0m         \u001b[0;32melse\u001b[0m\u001b[0;34m:\u001b[0m\u001b[0;34m\u001b[0m\u001b[0;34m\u001b[0m\u001b[0m\n\u001b[1;32m   1742\u001b[0m             raise ValueError(\"plot kind %r can only be used for data frames\"\n",
      "\u001b[0;32m/hdlocal/enelson/envs/mass_spec_ratio/lib/python3.6/site-packages/pandas/plotting/_core.py\u001b[0m in \u001b[0;36m__init__\u001b[0;34m(self, data, x, y, s, c, **kwargs)\u001b[0m\n\u001b[1;32m    858\u001b[0m             \u001b[0;31m# the handling of this argument later\u001b[0m\u001b[0;34m\u001b[0m\u001b[0;34m\u001b[0m\u001b[0;34m\u001b[0m\u001b[0m\n\u001b[1;32m    859\u001b[0m             \u001b[0ms\u001b[0m \u001b[0;34m=\u001b[0m \u001b[0;36m20\u001b[0m\u001b[0;34m\u001b[0m\u001b[0;34m\u001b[0m\u001b[0m\n\u001b[0;32m--> 860\u001b[0;31m         \u001b[0msuper\u001b[0m\u001b[0;34m(\u001b[0m\u001b[0mScatterPlot\u001b[0m\u001b[0;34m,\u001b[0m \u001b[0mself\u001b[0m\u001b[0;34m)\u001b[0m\u001b[0;34m.\u001b[0m\u001b[0m__init__\u001b[0m\u001b[0;34m(\u001b[0m\u001b[0mdata\u001b[0m\u001b[0;34m,\u001b[0m \u001b[0mx\u001b[0m\u001b[0;34m,\u001b[0m \u001b[0my\u001b[0m\u001b[0;34m,\u001b[0m \u001b[0ms\u001b[0m\u001b[0;34m=\u001b[0m\u001b[0ms\u001b[0m\u001b[0;34m,\u001b[0m \u001b[0;34m**\u001b[0m\u001b[0mkwargs\u001b[0m\u001b[0;34m)\u001b[0m\u001b[0;34m\u001b[0m\u001b[0;34m\u001b[0m\u001b[0m\n\u001b[0m\u001b[1;32m    861\u001b[0m         \u001b[0;32mif\u001b[0m \u001b[0mis_integer\u001b[0m\u001b[0;34m(\u001b[0m\u001b[0mc\u001b[0m\u001b[0;34m)\u001b[0m \u001b[0;32mand\u001b[0m \u001b[0;32mnot\u001b[0m \u001b[0mself\u001b[0m\u001b[0;34m.\u001b[0m\u001b[0mdata\u001b[0m\u001b[0;34m.\u001b[0m\u001b[0mcolumns\u001b[0m\u001b[0;34m.\u001b[0m\u001b[0mholds_integer\u001b[0m\u001b[0;34m(\u001b[0m\u001b[0;34m)\u001b[0m\u001b[0;34m:\u001b[0m\u001b[0;34m\u001b[0m\u001b[0;34m\u001b[0m\u001b[0m\n\u001b[1;32m    862\u001b[0m             \u001b[0mc\u001b[0m \u001b[0;34m=\u001b[0m \u001b[0mself\u001b[0m\u001b[0;34m.\u001b[0m\u001b[0mdata\u001b[0m\u001b[0;34m.\u001b[0m\u001b[0mcolumns\u001b[0m\u001b[0;34m[\u001b[0m\u001b[0mc\u001b[0m\u001b[0;34m]\u001b[0m\u001b[0;34m\u001b[0m\u001b[0;34m\u001b[0m\u001b[0m\n",
      "\u001b[0;32m/hdlocal/enelson/envs/mass_spec_ratio/lib/python3.6/site-packages/pandas/plotting/_core.py\u001b[0m in \u001b[0;36m__init__\u001b[0;34m(self, data, x, y, **kwargs)\u001b[0m\n\u001b[1;32m    803\u001b[0m         \u001b[0;32mif\u001b[0m \u001b[0mlen\u001b[0m\u001b[0;34m(\u001b[0m\u001b[0mself\u001b[0m\u001b[0;34m.\u001b[0m\u001b[0mdata\u001b[0m\u001b[0;34m[\u001b[0m\u001b[0mx\u001b[0m\u001b[0;34m]\u001b[0m\u001b[0;34m.\u001b[0m\u001b[0m_get_numeric_data\u001b[0m\u001b[0;34m(\u001b[0m\u001b[0;34m)\u001b[0m\u001b[0;34m)\u001b[0m \u001b[0;34m==\u001b[0m \u001b[0;36m0\u001b[0m\u001b[0;34m:\u001b[0m\u001b[0;34m\u001b[0m\u001b[0;34m\u001b[0m\u001b[0m\n\u001b[1;32m    804\u001b[0m             \u001b[0;32mraise\u001b[0m \u001b[0mValueError\u001b[0m\u001b[0;34m(\u001b[0m\u001b[0mself\u001b[0m\u001b[0;34m.\u001b[0m\u001b[0m_kind\u001b[0m \u001b[0;34m+\u001b[0m \u001b[0;34m' requires x column to be numeric'\u001b[0m\u001b[0;34m)\u001b[0m\u001b[0;34m\u001b[0m\u001b[0;34m\u001b[0m\u001b[0m\n\u001b[0;32m--> 805\u001b[0;31m         \u001b[0;32mif\u001b[0m \u001b[0mlen\u001b[0m\u001b[0;34m(\u001b[0m\u001b[0mself\u001b[0m\u001b[0;34m.\u001b[0m\u001b[0mdata\u001b[0m\u001b[0;34m[\u001b[0m\u001b[0my\u001b[0m\u001b[0;34m]\u001b[0m\u001b[0;34m.\u001b[0m\u001b[0m_get_numeric_data\u001b[0m\u001b[0;34m(\u001b[0m\u001b[0;34m)\u001b[0m\u001b[0;34m)\u001b[0m \u001b[0;34m==\u001b[0m \u001b[0;36m0\u001b[0m\u001b[0;34m:\u001b[0m\u001b[0;34m\u001b[0m\u001b[0;34m\u001b[0m\u001b[0m\n\u001b[0m\u001b[1;32m    806\u001b[0m             \u001b[0;32mraise\u001b[0m \u001b[0mValueError\u001b[0m\u001b[0;34m(\u001b[0m\u001b[0mself\u001b[0m\u001b[0;34m.\u001b[0m\u001b[0m_kind\u001b[0m \u001b[0;34m+\u001b[0m \u001b[0;34m' requires y column to be numeric'\u001b[0m\u001b[0;34m)\u001b[0m\u001b[0;34m\u001b[0m\u001b[0;34m\u001b[0m\u001b[0m\n\u001b[1;32m    807\u001b[0m \u001b[0;34m\u001b[0m\u001b[0m\n",
      "\u001b[0;32m/hdlocal/enelson/envs/mass_spec_ratio/lib/python3.6/site-packages/pandas/core/frame.py\u001b[0m in \u001b[0;36m__getitem__\u001b[0;34m(self, key)\u001b[0m\n\u001b[1;32m   2925\u001b[0m             \u001b[0;32mif\u001b[0m \u001b[0mself\u001b[0m\u001b[0;34m.\u001b[0m\u001b[0mcolumns\u001b[0m\u001b[0;34m.\u001b[0m\u001b[0mnlevels\u001b[0m \u001b[0;34m>\u001b[0m \u001b[0;36m1\u001b[0m\u001b[0;34m:\u001b[0m\u001b[0;34m\u001b[0m\u001b[0;34m\u001b[0m\u001b[0m\n\u001b[1;32m   2926\u001b[0m                 \u001b[0;32mreturn\u001b[0m \u001b[0mself\u001b[0m\u001b[0;34m.\u001b[0m\u001b[0m_getitem_multilevel\u001b[0m\u001b[0;34m(\u001b[0m\u001b[0mkey\u001b[0m\u001b[0;34m)\u001b[0m\u001b[0;34m\u001b[0m\u001b[0;34m\u001b[0m\u001b[0m\n\u001b[0;32m-> 2927\u001b[0;31m             \u001b[0mindexer\u001b[0m \u001b[0;34m=\u001b[0m \u001b[0mself\u001b[0m\u001b[0;34m.\u001b[0m\u001b[0mcolumns\u001b[0m\u001b[0;34m.\u001b[0m\u001b[0mget_loc\u001b[0m\u001b[0;34m(\u001b[0m\u001b[0mkey\u001b[0m\u001b[0;34m)\u001b[0m\u001b[0;34m\u001b[0m\u001b[0;34m\u001b[0m\u001b[0m\n\u001b[0m\u001b[1;32m   2928\u001b[0m             \u001b[0;32mif\u001b[0m \u001b[0mis_integer\u001b[0m\u001b[0;34m(\u001b[0m\u001b[0mindexer\u001b[0m\u001b[0;34m)\u001b[0m\u001b[0;34m:\u001b[0m\u001b[0;34m\u001b[0m\u001b[0;34m\u001b[0m\u001b[0m\n\u001b[1;32m   2929\u001b[0m                 \u001b[0mindexer\u001b[0m \u001b[0;34m=\u001b[0m \u001b[0;34m[\u001b[0m\u001b[0mindexer\u001b[0m\u001b[0;34m]\u001b[0m\u001b[0;34m\u001b[0m\u001b[0;34m\u001b[0m\u001b[0m\n",
      "\u001b[0;32m/hdlocal/enelson/envs/mass_spec_ratio/lib/python3.6/site-packages/pandas/core/indexes/base.py\u001b[0m in \u001b[0;36mget_loc\u001b[0;34m(self, key, method, tolerance)\u001b[0m\n\u001b[1;32m   2657\u001b[0m                 \u001b[0;32mreturn\u001b[0m \u001b[0mself\u001b[0m\u001b[0;34m.\u001b[0m\u001b[0m_engine\u001b[0m\u001b[0;34m.\u001b[0m\u001b[0mget_loc\u001b[0m\u001b[0;34m(\u001b[0m\u001b[0mkey\u001b[0m\u001b[0;34m)\u001b[0m\u001b[0;34m\u001b[0m\u001b[0;34m\u001b[0m\u001b[0m\n\u001b[1;32m   2658\u001b[0m             \u001b[0;32mexcept\u001b[0m \u001b[0mKeyError\u001b[0m\u001b[0;34m:\u001b[0m\u001b[0;34m\u001b[0m\u001b[0;34m\u001b[0m\u001b[0m\n\u001b[0;32m-> 2659\u001b[0;31m                 \u001b[0;32mreturn\u001b[0m \u001b[0mself\u001b[0m\u001b[0;34m.\u001b[0m\u001b[0m_engine\u001b[0m\u001b[0;34m.\u001b[0m\u001b[0mget_loc\u001b[0m\u001b[0;34m(\u001b[0m\u001b[0mself\u001b[0m\u001b[0;34m.\u001b[0m\u001b[0m_maybe_cast_indexer\u001b[0m\u001b[0;34m(\u001b[0m\u001b[0mkey\u001b[0m\u001b[0;34m)\u001b[0m\u001b[0;34m)\u001b[0m\u001b[0;34m\u001b[0m\u001b[0;34m\u001b[0m\u001b[0m\n\u001b[0m\u001b[1;32m   2660\u001b[0m         \u001b[0mindexer\u001b[0m \u001b[0;34m=\u001b[0m \u001b[0mself\u001b[0m\u001b[0;34m.\u001b[0m\u001b[0mget_indexer\u001b[0m\u001b[0;34m(\u001b[0m\u001b[0;34m[\u001b[0m\u001b[0mkey\u001b[0m\u001b[0;34m]\u001b[0m\u001b[0;34m,\u001b[0m \u001b[0mmethod\u001b[0m\u001b[0;34m=\u001b[0m\u001b[0mmethod\u001b[0m\u001b[0;34m,\u001b[0m \u001b[0mtolerance\u001b[0m\u001b[0;34m=\u001b[0m\u001b[0mtolerance\u001b[0m\u001b[0;34m)\u001b[0m\u001b[0;34m\u001b[0m\u001b[0;34m\u001b[0m\u001b[0m\n\u001b[1;32m   2661\u001b[0m         \u001b[0;32mif\u001b[0m \u001b[0mindexer\u001b[0m\u001b[0;34m.\u001b[0m\u001b[0mndim\u001b[0m \u001b[0;34m>\u001b[0m \u001b[0;36m1\u001b[0m \u001b[0;32mor\u001b[0m \u001b[0mindexer\u001b[0m\u001b[0;34m.\u001b[0m\u001b[0msize\u001b[0m \u001b[0;34m>\u001b[0m \u001b[0;36m1\u001b[0m\u001b[0;34m:\u001b[0m\u001b[0;34m\u001b[0m\u001b[0;34m\u001b[0m\u001b[0m\n",
      "\u001b[0;32mpandas/_libs/index.pyx\u001b[0m in \u001b[0;36mpandas._libs.index.IndexEngine.get_loc\u001b[0;34m()\u001b[0m\n",
      "\u001b[0;32mpandas/_libs/index.pyx\u001b[0m in \u001b[0;36mpandas._libs.index.IndexEngine.get_loc\u001b[0;34m()\u001b[0m\n",
      "\u001b[0;32mpandas/_libs/hashtable_class_helper.pxi\u001b[0m in \u001b[0;36mpandas._libs.hashtable.PyObjectHashTable.get_item\u001b[0;34m()\u001b[0m\n",
      "\u001b[0;32mpandas/_libs/hashtable_class_helper.pxi\u001b[0m in \u001b[0;36mpandas._libs.hashtable.PyObjectHashTable.get_item\u001b[0;34m()\u001b[0m\n",
      "\u001b[0;31mKeyError\u001b[0m: 'Calibrated_exp_curve_fit_ratio'"
     ]
    }
   ],
   "source": [
    "plt.rcParams['figure.figsize'] = [10, 10]\n",
    "occ_df.plot(x='occupancy', c='b_factor',kind='scatter',y='Calibrated_exp_curve_fit_ratio',colormap='viridis', sharex=False)\n",
    "plt.xlim(0,1)\n",
    "plt.ylim(0,1)\n",
    "plt.savefig('exhaustive_occ_B_calibrated.png')"
   ]
  },
  {
   "cell_type": "code",
   "execution_count": null,
   "metadata": {},
   "outputs": [],
   "source": [
    "plt.rcParams['figure.figsize'] = [10, 10]\n",
    "occ_df.plot(x='occupancy', c='b_factor',kind='scatter',y='Expected Ratio',colormap='viridis', sharex=False)\n",
    "plt.xlim(0,1)\n",
    "plt.ylim(0,1)\n",
    "plt.savefig('exhaustive_occ_B.png')"
   ]
  },
  {
   "cell_type": "code",
   "execution_count": null,
   "metadata": {},
   "outputs": [],
   "source": []
  }
 ],
 "metadata": {
  "kernelspec": {
   "display_name": "Python 3",
   "language": "python",
   "name": "python3"
  },
  "language_info": {
   "codemirror_mode": {
    "name": "ipython",
    "version": 3
   },
   "file_extension": ".py",
   "mimetype": "text/x-python",
   "name": "python",
   "nbconvert_exporter": "python",
   "pygments_lexer": "ipython3",
   "version": "3.6.8"
  }
 },
 "nbformat": 4,
 "nbformat_minor": 1
}
