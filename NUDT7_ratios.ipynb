{
 "cells": [
  {
   "cell_type": "markdown",
   "metadata": {
    "collapsed": true
   },
   "source": [
    "## Explorign Mass Spectroscopy Deconvolution Data"
   ]
  },
  {
   "cell_type": "code",
   "execution_count": 1,
   "metadata": {},
   "outputs": [],
   "source": [
    "%load_ext autoreload\n",
    "%autoreload 2"
   ]
  },
  {
   "cell_type": "code",
   "execution_count": 2,
   "metadata": {},
   "outputs": [],
   "source": [
    "import os\n",
    "import numpy as np\n",
    "import pandas as pd\n",
    "import re\n",
    "\n",
    "from NUDT7_ratios import read_grouped_csv\n",
    "from NUDT7_ratios import remove_dataset_by_filename_content\n",
    "#from NUDT7_ratios import check_signal_to_noise\n",
    "from NUDT7_ratios import ratios_from_filenames\n",
    "from NUDT7_ratios import get_ratios_of_expected_peaks\n",
    "from NUDT7_ratios import pre_crystal_plot\n",
    "from NUDT7_ratios import post_crystal_plot\n",
    "from NUDT7_ratios import string_contains\n",
    "from NUDT7_ratios import post_crystal_calibrated_plot\n",
    "from NUDT7_ratios import peak_height_outside_of_interest\n",
    "\n",
    "from io import StringIO\n",
    "from scipy.signal import find_peaks\n",
    "\n",
    "%matplotlib inline\n",
    "import matplotlib.pyplot as plt\n",
    "plt.rcParams['figure.figsize'] = [10, 10]"
   ]
  },
  {
   "cell_type": "code",
   "execution_count": 3,
   "metadata": {},
   "outputs": [
    {
     "name": "stderr",
     "output_type": "stream",
     "text": [
      "/hdlocal/enelson/mass_spec_ratio/NUDT7_ratios.py:55: FutureWarning: split() requires a non-empty pattern match.\n",
      "  split_data = header_re.split(data)\n"
     ]
    },
    {
     "ename": "IsADirectoryError",
     "evalue": "[Errno 21] Is a directory: '/hdlocal/enelson/mass_spec_ratio/NUDT7_Data/NUDT7A_Post_diffraction_crystal_mass_spectra_apr_14_16_2019'",
     "output_type": "error",
     "traceback": [
      "\u001b[0;31m---------------------------------------------------------------------------\u001b[0m",
      "\u001b[0;31mIsADirectoryError\u001b[0m                         Traceback (most recent call last)",
      "\u001b[0;32m<ipython-input-3-da89c928225d>\u001b[0m in \u001b[0;36m<module>\u001b[0;34m()\u001b[0m\n\u001b[1;32m      5\u001b[0m \u001b[0;32mfor\u001b[0m \u001b[0mcsv\u001b[0m \u001b[0;32min\u001b[0m \u001b[0mos\u001b[0m\u001b[0;34m.\u001b[0m\u001b[0mlistdir\u001b[0m\u001b[0;34m(\u001b[0m\u001b[0mdata_dir\u001b[0m\u001b[0;34m)\u001b[0m\u001b[0;34m:\u001b[0m\u001b[0;34m\u001b[0m\u001b[0;34m\u001b[0m\u001b[0m\n\u001b[1;32m      6\u001b[0m     \u001b[0mcsv\u001b[0m \u001b[0;34m=\u001b[0m \u001b[0mos\u001b[0m\u001b[0;34m.\u001b[0m\u001b[0mpath\u001b[0m\u001b[0;34m.\u001b[0m\u001b[0mjoin\u001b[0m\u001b[0;34m(\u001b[0m\u001b[0mdata_dir\u001b[0m\u001b[0;34m,\u001b[0m \u001b[0mcsv\u001b[0m\u001b[0;34m)\u001b[0m\u001b[0;34m\u001b[0m\u001b[0;34m\u001b[0m\u001b[0m\n\u001b[0;32m----> 7\u001b[0;31m     \u001b[0mdf_dict\u001b[0m\u001b[0;34m.\u001b[0m\u001b[0mupdate\u001b[0m\u001b[0;34m(\u001b[0m\u001b[0mread_grouped_csv\u001b[0m\u001b[0;34m(\u001b[0m\u001b[0mcsv\u001b[0m\u001b[0;34m)\u001b[0m\u001b[0;34m)\u001b[0m\u001b[0;34m\u001b[0m\u001b[0;34m\u001b[0m\u001b[0m\n\u001b[0m\u001b[1;32m      8\u001b[0m \u001b[0;34m\u001b[0m\u001b[0m\n\u001b[1;32m      9\u001b[0m \u001b[0mkeys_to_remove\u001b[0m \u001b[0;34m=\u001b[0m \u001b[0;34m[\u001b[0m\u001b[0;34m]\u001b[0m\u001b[0;34m\u001b[0m\u001b[0;34m\u001b[0m\u001b[0m\n",
      "\u001b[0;32m/hdlocal/enelson/mass_spec_ratio/NUDT7_ratios.py\u001b[0m in \u001b[0;36mread_grouped_csv\u001b[0;34m(csv)\u001b[0m\n\u001b[1;32m     49\u001b[0m     \u001b[0mdate\u001b[0m \u001b[0;34m=\u001b[0m \u001b[0mos\u001b[0m\u001b[0;34m.\u001b[0m\u001b[0mpath\u001b[0m\u001b[0;34m.\u001b[0m\u001b[0mbasename\u001b[0m\u001b[0;34m(\u001b[0m\u001b[0mcsv\u001b[0m\u001b[0;34m)\u001b[0m\u001b[0;34m.\u001b[0m\u001b[0msplit\u001b[0m\u001b[0;34m(\u001b[0m\u001b[0;34m\"_\"\u001b[0m\u001b[0;34m)\u001b[0m\u001b[0;34m[\u001b[0m\u001b[0;36m0\u001b[0m\u001b[0;34m]\u001b[0m\u001b[0;34m\u001b[0m\u001b[0;34m\u001b[0m\u001b[0m\n\u001b[1;32m     50\u001b[0m \u001b[0;34m\u001b[0m\u001b[0m\n\u001b[0;32m---> 51\u001b[0;31m     \u001b[0;32mwith\u001b[0m \u001b[0mopen\u001b[0m\u001b[0;34m(\u001b[0m\u001b[0mcsv\u001b[0m\u001b[0;34m)\u001b[0m \u001b[0;32mas\u001b[0m \u001b[0mf\u001b[0m\u001b[0;34m:\u001b[0m\u001b[0;34m\u001b[0m\u001b[0;34m\u001b[0m\u001b[0m\n\u001b[0m\u001b[1;32m     52\u001b[0m         \u001b[0mdata\u001b[0m \u001b[0;34m=\u001b[0m \u001b[0mf\u001b[0m\u001b[0;34m.\u001b[0m\u001b[0mread\u001b[0m\u001b[0;34m(\u001b[0m\u001b[0;34m)\u001b[0m\u001b[0;34m\u001b[0m\u001b[0;34m\u001b[0m\u001b[0m\n\u001b[1;32m     53\u001b[0m \u001b[0;34m\u001b[0m\u001b[0m\n",
      "\u001b[0;31mIsADirectoryError\u001b[0m: [Errno 21] Is a directory: '/hdlocal/enelson/mass_spec_ratio/NUDT7_Data/NUDT7A_Post_diffraction_crystal_mass_spectra_apr_14_16_2019'"
     ]
    }
   ],
   "source": [
    "#data_dir = \"/dls/science/groups/i04-1/elliot-dev/mass_spec_ratio/NUDT7_Data\"\n",
    "#data_dir = \"/home/nelse003/PycharmProjects/mass_spec_ratio/NUDT7_Data\"\n",
    "data_dir = \"/hdlocal/enelson/mass_spec_ratio/NUDT7_Data\"\n",
    "df_dict = {}\n",
    "for csv in os.listdir(data_dir):\n",
    "    csv = os.path.join(data_dir, csv)\n",
    "    df_dict.update(read_grouped_csv(csv))\n",
    "\n",
    "keys_to_remove = []\n",
    "peak_ratio  = []\n",
    "for key, df in df_dict.items():\n",
    "    if \"blank\" in key:\n",
    "        keys_to_remove.append(key)\n",
    "\n",
    "for key in set(keys_to_remove):\n",
    "    del df_dict[key]\n",
    "\n",
    "keys_to_remove = []\n",
    "for key, df in df_dict.items():\n",
    "    try:\n",
    "        peak_ratio.append(peak_height_outside_of_interest(df))\n",
    "    except ValueError:\n",
    "        keys_to_remove.append(key)\n",
    "    "
   ]
  },
  {
   "cell_type": "code",
   "execution_count": null,
   "metadata": {},
   "outputs": [],
   "source": [
    "print(df_dict.keys())"
   ]
  },
  {
   "cell_type": "code",
   "execution_count": null,
   "metadata": {},
   "outputs": [],
   "source": [
    "sample_key = '190301 : \"+ESI Scan (rt: 7.203-7.997 min, 49 scans) Frag=250.0V NUDT7A_p026_CI074435_F5a.d  Deconvoluted (Isotope Width=0.0)\"\\n'\n",
    "\n",
    "print(df_dict[sample_key])"
   ]
  },
  {
   "cell_type": "code",
   "execution_count": null,
   "metadata": {},
   "outputs": [],
   "source": [
    "sample_df = df_dict[sample_key]"
   ]
  },
  {
   "cell_type": "code",
   "execution_count": null,
   "metadata": {},
   "outputs": [],
   "source": [
    "sample_df.plot(x='X(Daltons)',y='Y(Counts)',kind='line',xlim=(22000,26000))"
   ]
  },
  {
   "cell_type": "code",
   "execution_count": null,
   "metadata": {},
   "outputs": [],
   "source": [
    "sample_df.plot(x='X(Daltons)',y='Y(Counts)',kind='line')"
   ]
  },
  {
   "cell_type": "code",
   "execution_count": null,
   "metadata": {},
   "outputs": [],
   "source": [
    "sample_df.plot(x='X(Daltons)',y='Y(Counts)',kind='line',xlim=(25000,25800),ylim=(0,60000))"
   ]
  },
  {
   "cell_type": "code",
   "execution_count": null,
   "metadata": {},
   "outputs": [],
   "source": []
  },
  {
   "cell_type": "code",
   "execution_count": null,
   "metadata": {},
   "outputs": [],
   "source": [
    "unlabelled_peak_df = sample_df[(sample_df['X(Daltons)'] >= 25100) & (sample_df['X(Daltons)'] <= 25300)]"
   ]
  },
  {
   "cell_type": "code",
   "execution_count": null,
   "metadata": {},
   "outputs": [],
   "source": [
    "unlabelled_peak_df['Y(Counts)'].sum()"
   ]
  },
  {
   "cell_type": "code",
   "execution_count": null,
   "metadata": {},
   "outputs": [],
   "source": [
    "labelled_peak_df = sample_df[(sample_df['X(Daltons)'] >= 25454) & (sample_df['X(Daltons)'] <= 25654)]"
   ]
  },
  {
   "cell_type": "code",
   "execution_count": null,
   "metadata": {},
   "outputs": [],
   "source": [
    "labelled_peak_df['Y(Counts)'].sum()"
   ]
  },
  {
   "cell_type": "code",
   "execution_count": null,
   "metadata": {},
   "outputs": [],
   "source": [
    "labelled_peak_df['Y(Counts)'].sum()/unlabelled_peak_df['Y(Counts)'].sum()"
   ]
  },
  {
   "cell_type": "code",
   "execution_count": null,
   "metadata": {},
   "outputs": [],
   "source": [
    "sample_df.plot(x='X(Daltons)',y='Y(Counts)',kind='line', xlim=(22000,26000))"
   ]
  },
  {
   "cell_type": "markdown",
   "metadata": {},
   "source": [
    "Expected peaks are to seperated by 354. Lokking for pairs"
   ]
  },
  {
   "cell_type": "code",
   "execution_count": null,
   "metadata": {},
   "outputs": [],
   "source": [
    "sample_df.plot(x='X(Daltons)',y='Y(Counts)',kind='line', xlim=(24000,25000),ylim=(0,22000))"
   ]
  },
  {
   "cell_type": "code",
   "execution_count": null,
   "metadata": {},
   "outputs": [],
   "source": [
    "test_df = sample_df[(sample_df['X(Daltons)'] >= 24200) & (sample_df['X(Daltons)'] <= 24400)]"
   ]
  },
  {
   "cell_type": "code",
   "execution_count": null,
   "metadata": {},
   "outputs": [],
   "source": [
    "test_df.loc[test_df['Y(Counts)'].idxmax()]"
   ]
  },
  {
   "cell_type": "markdown",
   "metadata": {},
   "source": [
    "Therefore the maximum should be at 24,572 for that to be a peak"
   ]
  },
  {
   "cell_type": "code",
   "execution_count": null,
   "metadata": {},
   "outputs": [],
   "source": [
    "test_label_df = sample_df[(sample_df['X(Daltons)'] >= 24500) & (sample_df['X(Daltons)'] <= 24700)]"
   ]
  },
  {
   "cell_type": "code",
   "execution_count": null,
   "metadata": {},
   "outputs": [],
   "source": [
    "test_label_df.loc[test_label_df['Y(Counts)'].idxmax()]"
   ]
  },
  {
   "cell_type": "code",
   "execution_count": null,
   "metadata": {},
   "outputs": [],
   "source": [
    "test_df = sample_df[(sample_df['X(Daltons)'] >= 24000) & (sample_df['X(Daltons)'] <= 24100)]"
   ]
  },
  {
   "cell_type": "code",
   "execution_count": null,
   "metadata": {},
   "outputs": [],
   "source": [
    "test_df.loc[test_df['Y(Counts)'].idxmax()]"
   ]
  },
  {
   "cell_type": "code",
   "execution_count": null,
   "metadata": {},
   "outputs": [],
   "source": [
    "test_label_df = sample_df[(sample_df['X(Daltons)'] >= 24400) & (sample_df['X(Daltons)'] <= 24500)]"
   ]
  },
  {
   "cell_type": "code",
   "execution_count": null,
   "metadata": {},
   "outputs": [],
   "source": [
    "test_label_df.loc[test_label_df['Y(Counts)'].idxmax()]"
   ]
  },
  {
   "cell_type": "code",
   "execution_count": null,
   "metadata": {},
   "outputs": [],
   "source": [
    "sample_df.plot(x='X(Daltons)',y='Y(Counts)',kind='line', xlim=(22500,24000),ylim=(0,250000))"
   ]
  },
  {
   "cell_type": "markdown",
   "metadata": {},
   "source": [
    "Looks like two sets of peaks"
   ]
  },
  {
   "cell_type": "code",
   "execution_count": null,
   "metadata": {},
   "outputs": [],
   "source": [
    "sample_df.plot(x='X(Daltons)',y='Y(Counts)',kind='line', xlim=(23500,24000),ylim=(0,120000))"
   ]
  },
  {
   "cell_type": "code",
   "execution_count": null,
   "metadata": {},
   "outputs": [],
   "source": [
    "test_df = sample_df[(sample_df['X(Daltons)'] >= 23500) & (sample_df['X(Daltons)'] <= 23700)]"
   ]
  },
  {
   "cell_type": "code",
   "execution_count": null,
   "metadata": {},
   "outputs": [],
   "source": [
    "test_df.loc[test_df['Y(Counts)'].idxmax()]"
   ]
  },
  {
   "cell_type": "code",
   "execution_count": null,
   "metadata": {},
   "outputs": [],
   "source": [
    "test_df = sample_df[(sample_df['X(Daltons)'] >= 23850) & (sample_df['X(Daltons)'] <= 23950)]"
   ]
  },
  {
   "cell_type": "code",
   "execution_count": null,
   "metadata": {},
   "outputs": [],
   "source": [
    "test_df.loc[test_df['Y(Counts)'].idxmax()]"
   ]
  },
  {
   "cell_type": "code",
   "execution_count": null,
   "metadata": {},
   "outputs": [],
   "source": [
    "sample_df.plot(x='X(Daltons)',y='Y(Counts)',kind='line', xlim=(22700,23300),ylim=(0,250000))"
   ]
  },
  {
   "cell_type": "code",
   "execution_count": null,
   "metadata": {},
   "outputs": [],
   "source": [
    "test_df = sample_df[(sample_df['X(Daltons)'] >= 22750) & (sample_df['X(Daltons)'] <= 22900)]"
   ]
  },
  {
   "cell_type": "code",
   "execution_count": null,
   "metadata": {},
   "outputs": [],
   "source": [
    "test_df.loc[test_df['Y(Counts)'].idxmax()]"
   ]
  },
  {
   "cell_type": "code",
   "execution_count": null,
   "metadata": {},
   "outputs": [],
   "source": [
    "test_df = sample_df[(sample_df['X(Daltons)'] >= 23100) & (sample_df['X(Daltons)'] <= 23300)]"
   ]
  },
  {
   "cell_type": "code",
   "execution_count": null,
   "metadata": {},
   "outputs": [],
   "source": [
    "test_df.loc[test_df['Y(Counts)'].idxmax()]"
   ]
  },
  {
   "cell_type": "code",
   "execution_count": null,
   "metadata": {},
   "outputs": [],
   "source": []
  },
  {
   "cell_type": "code",
   "execution_count": null,
   "metadata": {},
   "outputs": [],
   "source": [
    "sample_df.plot(x='X(Daltons)',y='Y(Counts)',kind='line', xlim=(22000,22700),ylim=(0,60000))"
   ]
  },
  {
   "cell_type": "code",
   "execution_count": null,
   "metadata": {},
   "outputs": [],
   "source": [
    "test_df = sample_df[(sample_df['X(Daltons)'] >= 22600) & (sample_df['X(Daltons)'] <= 22700)]"
   ]
  },
  {
   "cell_type": "code",
   "execution_count": null,
   "metadata": {},
   "outputs": [],
   "source": [
    "test_df.loc[test_df['Y(Counts)'].idxmax()]"
   ]
  },
  {
   "cell_type": "markdown",
   "metadata": {},
   "source": [
    "Therefore we have:\n",
    "\n",
    "| Unlabelled | Labelled |\n",
    "| --- | --- |\n",
    "| 25125 | 25479 |\n",
    "| 24218 | 24574 |\n",
    "| 23525 | 23879 |\n",
    "| 22786 | 23140 | \n",
    "\n",
    "Peak at 22637 doesnt match next peak down. Could be two weak pairs? Explain 8/9 strongest peaks. Need to look at the continuty of ratios between the sets, and the difference using max peak, and area within defined region from"
   ]
  },
  {
   "cell_type": "code",
   "execution_count": null,
   "metadata": {},
   "outputs": [],
   "source": [
    "sample_df.plot(x='X(Daltons)',y='Y(Counts)',kind='line',ylim=(0,250000),xlim=(22000,26000))"
   ]
  },
  {
   "cell_type": "code",
   "execution_count": null,
   "metadata": {},
   "outputs": [],
   "source": [
    "test_df = sample_df[(sample_df['X(Daltons)'] >= 21000) & (sample_df['X(Daltons)'] <= 26000)]\n"
   ]
  },
  {
   "cell_type": "code",
   "execution_count": null,
   "metadata": {},
   "outputs": [],
   "source": [
    "x = sample_df['Y(Counts)']"
   ]
  },
  {
   "cell_type": "code",
   "execution_count": null,
   "metadata": {},
   "outputs": [],
   "source": [
    "test_df"
   ]
  },
  {
   "cell_type": "code",
   "execution_count": null,
   "metadata": {},
   "outputs": [],
   "source": [
    "peaks, _ = find_peaks(x, height=0)"
   ]
  },
  {
   "cell_type": "code",
   "execution_count": null,
   "metadata": {},
   "outputs": [],
   "source": [
    "peaks = peaks + 6000"
   ]
  },
  {
   "cell_type": "code",
   "execution_count": null,
   "metadata": {},
   "outputs": [],
   "source": [
    "len(peaks)"
   ]
  },
  {
   "cell_type": "code",
   "execution_count": null,
   "metadata": {},
   "outputs": [],
   "source": [
    "plt.plot(x)\n",
    "plt.plot(peaks, x[peaks], \"x\")\n",
    "plt.show()"
   ]
  },
  {
   "cell_type": "code",
   "execution_count": null,
   "metadata": {},
   "outputs": [],
   "source": [
    "peaks, _ = find_peaks(x, height=1000)\n",
    "peaks = peaks + 6000\n",
    "plt.plot(x)\n",
    "plt.plot(peaks, x[peaks], \"x\")\n",
    "plt.show()\n",
    "len(peaks)"
   ]
  },
  {
   "cell_type": "code",
   "execution_count": null,
   "metadata": {},
   "outputs": [],
   "source": []
  },
  {
   "cell_type": "markdown",
   "metadata": {},
   "source": [
    "We recover 6 of the 8 expected peaks in the largest set. Lets check by separation if we can ignore the adducts ,a nd increase to include all\n",
    "\n",
    "| Unlabelled | Labelled |\n",
    "| --- | --- |\n",
    "| 25125 | 25479 |\n",
    "| 24218 | 24574 |\n",
    "| 23525 | 23879 |\n",
    "| 22786 | 23140 | "
   ]
  },
  {
   "cell_type": "code",
   "execution_count": null,
   "metadata": {},
   "outputs": [],
   "source": [
    "peaks, _ = find_peaks(x, height=1000, distance=100)\n",
    "peaks = peaks + 6000\n",
    "plt.plot(x)\n",
    "plt.plot(peaks, x[peaks], \"x\")\n",
    "plt.show()\n",
    "len(peaks)"
   ]
  },
  {
   "cell_type": "code",
   "execution_count": null,
   "metadata": {},
   "outputs": [],
   "source": []
  },
  {
   "cell_type": "code",
   "execution_count": null,
   "metadata": {},
   "outputs": [],
   "source": [
    "test_df = sample_df[(sample_df['X(Daltons)'] >= 25125-50) & (sample_df['X(Daltons)'] <= 25125+100)]"
   ]
  },
  {
   "cell_type": "code",
   "execution_count": null,
   "metadata": {},
   "outputs": [],
   "source": [
    "test_df.plot(x='X(Daltons)',y='Y(Counts)',kind='line',ylim=(0,60000))"
   ]
  },
  {
   "cell_type": "code",
   "execution_count": null,
   "metadata": {},
   "outputs": [],
   "source": [
    "unlabelled_peak_area = test_df['Y(Counts)'].sum()"
   ]
  },
  {
   "cell_type": "code",
   "execution_count": null,
   "metadata": {},
   "outputs": [],
   "source": [
    "labelled_df = sample_df[(sample_df['X(Daltons)'] >= 25479-50) & (sample_df['X(Daltons)'] <= 25479+100)]"
   ]
  },
  {
   "cell_type": "code",
   "execution_count": null,
   "metadata": {},
   "outputs": [],
   "source": [
    "labelled_df.plot(x='X(Daltons)',y='Y(Counts)',kind='line',ylim=(0,60000))"
   ]
  },
  {
   "cell_type": "code",
   "execution_count": null,
   "metadata": {},
   "outputs": [],
   "source": [
    "labelled_peak_area = labelled_df['Y(Counts)'].sum()"
   ]
  },
  {
   "cell_type": "code",
   "execution_count": null,
   "metadata": {},
   "outputs": [],
   "source": [
    "unlabelled_peak_area/ (unlabelled_peak_area + labelled_peak_area)"
   ]
  },
  {
   "cell_type": "code",
   "execution_count": null,
   "metadata": {},
   "outputs": [],
   "source": [
    "labelled_peak_area/ (unlabelled_peak_area + labelled_peak_area)"
   ]
  },
  {
   "cell_type": "code",
   "execution_count": null,
   "metadata": {},
   "outputs": [],
   "source": [
    "labelled_peak_height = labelled_df['Y(Counts)'].max()"
   ]
  },
  {
   "cell_type": "code",
   "execution_count": null,
   "metadata": {},
   "outputs": [],
   "source": [
    "unlabelled_df = test_df\n",
    "unlabelled_peak_height = unlabelled_df['Y(Counts)'].max()"
   ]
  },
  {
   "cell_type": "code",
   "execution_count": null,
   "metadata": {},
   "outputs": [],
   "source": [
    "labelled_peak_height/(unlabelled_peak_height + labelled_peak_height)"
   ]
  },
  {
   "cell_type": "code",
   "execution_count": null,
   "metadata": {},
   "outputs": [],
   "source": [
    "unlabelled_peak_height/(unlabelled_peak_height + labelled_peak_height)"
   ]
  },
  {
   "cell_type": "code",
   "execution_count": null,
   "metadata": {},
   "outputs": [],
   "source": [
    "def peak_height_outside_of_interest(df, min_interest = 22000, max_interest = 26000):\n",
    "    \"\"\" Find ratio between largest peak inside area of interst, and outside \"\"\"\n",
    "    \n",
    "    peaks, _ = find_peaks(df['Y(Counts)'], height=1000, distance=100)\n",
    "    \n",
    "    peaks_df = df.loc[peaks]\n",
    "    \n",
    "    interest_peaks_df = peaks_df[(peaks_df['X(Daltons)'] >= min_interest) & (peaks_df['X(Daltons)'] <= max_interest)]\n",
    "    uninterest_peaks_df = peaks_df[(peaks_df['X(Daltons)'] < min_interest) | (peaks_df['X(Daltons)'] > max_interest)]\n",
    "    \n",
    "    max_uninterest_peak = uninterest_peaks_df.nlargest(1,'Y(Counts)')\n",
    "    max_interest_peak = interest_peaks_df.nlargest(1,'Y(Counts)')\n",
    "    \n",
    "    ratio_of_peak_outside_area = max_uninterest_peak['Y(Counts)'].values/(max_interest_peak['Y(Counts)'].values + max_uninterest_peak['Y(Counts)'].values)\n",
    "\n",
    "    return float(ratio_of_peak_outside_area)\n",
    "\n",
    "peak_height_outside_of_interest(sample_df)"
   ]
  },
  {
   "cell_type": "code",
   "execution_count": null,
   "metadata": {},
   "outputs": [],
   "source": [
    "expected_unlabelled_peaks = np.array([25125, 24218, 23525, 22786])\n",
    "expected_labelled_peaks = expected_unlabelled_peaks + 354\n"
   ]
  },
  {
   "cell_type": "code",
   "execution_count": null,
   "metadata": {},
   "outputs": [],
   "source": [
    "x = sample_df['Y(Counts)']\n",
    "peaks, _ = find_peaks(x, height=1000, distance=100)\n",
    "plt.plot(x)\n",
    "plt.plot(peaks, x[peaks], \"x\")\n",
    "plt.show()"
   ]
  },
  {
   "cell_type": "code",
   "execution_count": null,
   "metadata": {},
   "outputs": [],
   "source": [
    "for key, df in df_dict.items():\n",
    "     if \"190227 : \\\"+ESI Scan (rt: 7.200-7.994 min, 49 scans) Frag=250.0V blank01.d\" in key:\n",
    "            df.plot(x='X(Daltons)',y='Y(Counts)',kind='line',ylim=(0,2000))"
   ]
  },
  {
   "cell_type": "code",
   "execution_count": null,
   "metadata": {},
   "outputs": [],
   "source": []
  },
  {
   "cell_type": "code",
   "execution_count": null,
   "metadata": {},
   "outputs": [],
   "source": []
  },
  {
   "cell_type": "code",
   "execution_count": null,
   "metadata": {},
   "outputs": [],
   "source": [
    "expected_unlabelled_peaks = np.array([25125, 24218, 23525, 22786])\n",
    "expected_labelled_peaks = expected_unlabelled_peaks + 354\n",
    "\n",
    "def peak_nearby(df, peak, delta=10, left_range=50, right_range=100):\n",
    "\n",
    "    peak_df = df[(df['X(Daltons)'] >= peak-delta)\n",
    "            & (df['X(Daltons)'] <= peak+delta)]\n",
    "    #print(peak_df)\n",
    "    peak_loc = peak_df.loc[peak_df['Y(Counts)'].idxmax()]['X(Daltons)']\n",
    "    peak_height = peak_df['Y(Counts)'].max()\n",
    "    peak_area_df = sample_df[(sample_df['X(Daltons)'] >= peak-left_range)\n",
    "            & (sample_df['X(Daltons)'] <= peak+right_range)]\n",
    "    peak_area = peak_area_df['Y(Counts)'].sum()\n",
    "\n",
    "    return peak_loc, peak_height, peak_area\n",
    "\n",
    "\n",
    "x = sample_df['Y(Counts)']\n",
    "peaks, _ = find_peaks(x, height=1000, distance=100)\n",
    "peaks_df = df.loc[peaks]\n",
    "\n",
    "for peak, peak_labelled in zip(expected_unlabelled_peaks, expected_labelled_peaks):\n",
    "\n",
    "    print(peak, peak_labelled)\n",
    "    \n",
    "    peak_loc, peak_height, peak_area = peak_nearby(sample_df, peak, \n",
    "                                                   delta=10, \n",
    "                                                   left_range=50, \n",
    "                                                   right_range=100)\n",
    "    \n",
    "    labelled_peak_loc, \\\n",
    "    labelled_peak_height,\\\n",
    "    labelled_peak_area = peak_nearby(df,\n",
    "                                     peak_labelled, \n",
    "                                     delta=10,\n",
    "                                     left_range=50,right_range=100)\n",
    "\n",
    "    print(peak_loc,labelled_peak_loc)\n",
    "\n",
    "    \n",
    "\n"
   ]
  },
  {
   "cell_type": "code",
   "execution_count": null,
   "metadata": {},
   "outputs": [],
   "source": [
    "    sample_key = '190301 : \"+ESI Scan (rt: 7.203-7.997 min, 49 scans)' \\\n",
    "                 ' Frag=250.0V NUDT7A_p026_CI074435_F5a.d' \\\n",
    "                 '  Deconvoluted (Isotope Width=0.0)\"\\n'\n",
    "\n",
    "    sample_df = df_dict[sample_key]\n",
    "\n",
    "sample_df.plot(x='X(Daltons)',y='Y(Counts)',kind='scatter',ylim=(0,50000),xlim=(25400,25600))"
   ]
  },
  {
   "cell_type": "markdown",
   "metadata": {},
   "source": [
    "Now Looking at plots of ratios. Load in data once:"
   ]
  },
  {
   "cell_type": "code",
   "execution_count": null,
   "metadata": {},
   "outputs": [],
   "source": [
    "data_dir = \"/dls/science/groups/i04-1/elliot-dev/mass_spec_ratio/NUDT7_Data\"\n",
    "# Parse all csv in folder to separate into individual deconvolutions by headers\n",
    "df_dict = {}\n",
    "for csv in os.listdir(data_dir):\n",
    "    csv = os.path.join(data_dir, csv)\n",
    "    df_dict.update(read_grouped_csv(csv))\n",
    "\n",
    "# Remove blank datasets\n",
    "df_dict = remove_dataset_by_filename_content(df_dict, key_string=\"blank\")\n",
    "# Remove un-needed dataset\n",
    "df_dict = remove_dataset_by_filename_content(df_dict,\n",
    "                                             key_string=\"NUDT7A_p026_NU0000308a\"\n",
    "                                                        \"_post_gel_filtration\")\n",
    "\n",
    "# remove datasets that do not pass signal threshold\n",
    "# currently 1000 counts in interest area 22000-26000\n",
    "# TODO Move parameters up to non hard coded region\n",
    "df_dict, peak_ratios = check_signal_to_noise(df_dict)\n",
    "\n",
    "# From Exploratory analysis these pairs of peaks are present\n",
    "# showing that degradation into three sets of paired peaks\n",
    "expected_unlabelled_peaks = np.array([25125, 24218, 23525, 22786])\n",
    "expected_labelled_peaks = expected_unlabelled_peaks + 354\n",
    "\n",
    "# Translate keys (filenames) into ratios\n",
    "# Split across two dicitionaries to parse\n",
    "# intended ratio and expected ratio\n",
    "intended_ratio_dict = ratios_from_filenames(df_dict)\n",
    "\n",
    "# Process all deconvolutions to ratios of peaks\n",
    "ratio_df_list = []\n",
    "for key, df in df_dict.items():\n",
    "    ratio_df = get_ratios_of_expected_peaks(df,\n",
    "                                            expected_unlabelled_peaks,\n",
    "                                            expected_labelled_peaks)\n",
    "\n",
    "    # Get weights of contributing peaks based on peak height\n",
    "    height_weight = (ratio_df['peak_height'] + ratio_df['labelled_peak_height']) \\\n",
    "                    / (ratio_df['labelled_peak_height'].sum() + \\\n",
    "                       ratio_df['peak_height'].sum())\n",
    "\n",
    "    # Get weights of contributing peaks based on peak area\n",
    "    area_weight = (ratio_df['peak_area'] + ratio_df['labelled_peak_area']) \\\n",
    "                  / (ratio_df['labelled_peak_area'].sum() + \\\n",
    "                     ratio_df['peak_area'].sum())\n",
    "\n",
    "    # Get a single weighted ratio using peak heights\n",
    "    weighted_height_ratio = height_weight * ratio_df['height_ratio']\n",
    "    weighted_height_ratio = weighted_height_ratio.sum()\n",
    "\n",
    "    # Get a single weighted ratio using peak areas\n",
    "    weighted_area_ratio = area_weight * ratio_df['area_ratio']\n",
    "    weighted_area_ratio = weighted_area_ratio.sum()\n",
    "\n",
    "    # Store weights and ratios, and key in ratio dataframe\n",
    "    ratio_df['height_weights'] = height_weight\n",
    "    ratio_df['area_weights'] = area_weight\n",
    "    ratio_df['weighted_height_ratio'] = weighted_height_ratio\n",
    "    ratio_df['weighted_area_ratio'] = weighted_area_ratio\n",
    "    ratio_df['intended_ratio'] = intended_ratio_dict[key]\n",
    "    ratio_df['key'] = key\n",
    "\n",
    "    # For concatenating results\n",
    "    ratio_df_list.append(ratio_df)\n",
    "\n",
    "ratio_df = pd.concat(ratio_df_list)"
   ]
  },
  {
   "cell_type": "markdown",
   "metadata": {},
   "source": [
    "Split into two dataframes"
   ]
  },
  {
   "cell_type": "code",
   "execution_count": null,
   "metadata": {},
   "outputs": [],
   "source": [
    "ratio_df['pre_crystal'] = ratio_df['key'].apply(string_contains, match='L_')\n",
    "pre_crystal_df = ratio_df[ratio_df['pre_crystal'] == True]\n",
    "post_crystal_df = ratio_df[ratio_df['pre_crystal'] == False]"
   ]
  },
  {
   "cell_type": "markdown",
   "metadata": {},
   "source": [
    "Plotting"
   ]
  },
  {
   "cell_type": "code",
   "execution_count": null,
   "metadata": {},
   "outputs": [],
   "source": [
    "pre_crystal_plot(pre_crystal_df)\n",
    "post_crystal_plot(post_crystal_df)"
   ]
  },
  {
   "cell_type": "markdown",
   "metadata": {},
   "source": [
    "Swapping to Calibrated ratio from pre_crystal experiements. Interpolating the missing value, and setting no peak at 0 intedned ratio"
   ]
  },
  {
   "cell_type": "code",
   "execution_count": null,
   "metadata": {},
   "outputs": [],
   "source": [
    "df = pre_crystal_df[['intended_ratio','weighted_height_ratio']]\n",
    "df = df.drop_duplicates()\n",
    "df = df.sort_values(by=['intended_ratio'])\n",
    "intended_ratio = df['intended_ratio']\n",
    "expected_ratio = df['weighted_height_ratio']\n",
    "interp_val = np.interp(0.75, intended_ratio, expected_ratio)\n",
    "\n",
    "df1 = pd.DataFrame({'intended_ratio': [0.75,0],\n",
    "           'weighted_height_ratio': [interp_val,0]})\n",
    "df = df.append(df1)\n",
    "df = df.sort_values(by=['intended_ratio'])\n",
    "df = df.rename(columns={'weighted_height_ratio': 'calibrated_ratio'})\n",
    "post_crystal_df = pd.merge(post_crystal_df, df, on='intended_ratio')"
   ]
  },
  {
   "cell_type": "code",
   "execution_count": null,
   "metadata": {},
   "outputs": [],
   "source": [
    "post_crystal_calibrated_plot(post_crystal_df)"
   ]
  },
  {
   "cell_type": "code",
   "execution_count": null,
   "metadata": {},
   "outputs": [],
   "source": [
    "for key in df_dict.keys():\n",
    "    if 'CI074433' in key:\n",
    "        print(key)\n",
    "    "
   ]
  },
  {
   "cell_type": "code",
   "execution_count": null,
   "metadata": {},
   "outputs": [],
   "source": [
    "key = '190302 : \"+ESI Scan (rt: 7.202-7.996 min, 49 scans) Frag=250.0V NUDT7A_p026_CI074433_C5c.d  Deconvoluted (Isotope Width=0.0)\"\\n'"
   ]
  },
  {
   "cell_type": "code",
   "execution_count": null,
   "metadata": {},
   "outputs": [],
   "source": [
    "key = '190302 : \"+ESI Scan (rt: 7.202-7.996 min, 49 scans) Frag=250.0V NUDT7A_p026_CI074433_C5c.d  Deconvoluted (Isotope Width=0.0)\"\\n'\n",
    "no_label_df = df_dict[key]\n",
    "no_label_df.plot(x='X(Daltons)',y='Y(Counts)',kind='line',xlim=(22000,26000))"
   ]
  },
  {
   "cell_type": "code",
   "execution_count": null,
   "metadata": {},
   "outputs": [],
   "source": [
    "key = '190302 : \"+ESI Scan (rt: 7.202-7.996 min, 49 scans) Frag=250.0V NUDT7A_p026_CI074433_C3c.d  Deconvoluted (Isotope Width=0.0)\"\\n'\n",
    "no_label_df = df_dict[key]\n",
    "no_label_df.plot(x='X(Daltons)',y='Y(Counts)',kind='line',xlim=(22000,26000))"
   ]
  },
  {
   "cell_type": "code",
   "execution_count": null,
   "metadata": {},
   "outputs": [],
   "source": [
    "key = '190302 : \"+ESI Scan (rt: 7.208-7.985 min, 48 scans) Frag=250.0V NUDT7A_p026_CI074433_A6d.d  Deconvoluted (Isotope Width=0.0)\"\\n'\n",
    "no_label_df = df_dict[key]\n",
    "no_label_df.plot(x='X(Daltons)',y='Y(Counts)',kind='line',xlim=(22000,26000))"
   ]
  },
  {
   "cell_type": "markdown",
   "metadata": {},
   "source": [
    "## Plotting mounted ratios"
   ]
  },
  {
   "cell_type": "code",
   "execution_count": null,
   "metadata": {},
   "outputs": [],
   "source": [
    "import pandas as pd\n",
    "%matplotlib inline\n",
    "import matplotlib.pyplot as plt\n",
    "plt.rcParams['figure.figsize'] = [10, 10]\n",
    "\n",
    "mounted_df = pd.read_csv('/dls/science/groups/i04-1/elliot-dev/mass_spec_ratio/NUDT7_Data/mounted_ratios.csv')"
   ]
  },
  {
   "cell_type": "code",
   "execution_count": null,
   "metadata": {},
   "outputs": [],
   "source": [
    "mounted_df.columns.values"
   ]
  },
  {
   "cell_type": "code",
   "execution_count": null,
   "metadata": {},
   "outputs": [],
   "source": [
    "occ_correct = \"/dls/science/groups/i04-1/elliot-dev/Work/NUDT7A_mass_spec_refinements/occ_correct.csv\"\n",
    "occ_correct_df = pd.read_csv(occ_correct)"
   ]
  },
  {
   "cell_type": "code",
   "execution_count": null,
   "metadata": {},
   "outputs": [],
   "source": [
    "occ_correct_df"
   ]
  },
  {
   "cell_type": "code",
   "execution_count": null,
   "metadata": {},
   "outputs": [],
   "source": [
    "occ_df = pd.merge(occ_correct_df, mounted_df, right_on='  Mounted Crystal ID ', left_on='crystal')\n"
   ]
  },
  {
   "cell_type": "code",
   "execution_count": null,
   "metadata": {},
   "outputs": [],
   "source": [
    "occ_df = occ_df.drop_duplicates()"
   ]
  },
  {
   "cell_type": "code",
   "execution_count": null,
   "metadata": {},
   "outputs": [],
   "source": [
    "occ_df = occ_df[occ_df.state==\"bound\"]"
   ]
  },
  {
   "cell_type": "code",
   "execution_count": null,
   "metadata": {},
   "outputs": [],
   "source": [
    "occ_df = occ_df[occ_df.resname==\"LIG\"]"
   ]
  },
  {
   "cell_type": "code",
   "execution_count": null,
   "metadata": {},
   "outputs": [],
   "source": []
  },
  {
   "cell_type": "code",
   "execution_count": null,
   "metadata": {},
   "outputs": [],
   "source": [
    "occ_df.columns.values"
   ]
  },
  {
   "cell_type": "code",
   "execution_count": null,
   "metadata": {},
   "outputs": [],
   "source": [
    "occ_df = occ_df[occ_df['occupancy group']==3]"
   ]
  },
  {
   "cell_type": "code",
   "execution_count": null,
   "metadata": {},
   "outputs": [],
   "source": []
  },
  {
   "cell_type": "code",
   "execution_count": null,
   "metadata": {},
   "outputs": [],
   "source": [
    "occ_df.plot(x='state occupancy', y='Expected Ratio',kind='scatter')"
   ]
  },
  {
   "cell_type": "code",
   "execution_count": null,
   "metadata": {},
   "outputs": [],
   "source": [
    "def xtal_num(row):\n",
    "    return row.crystal.split('x')[1]"
   ]
  },
  {
   "cell_type": "code",
   "execution_count": null,
   "metadata": {},
   "outputs": [],
   "source": [
    "occ_df['xtal_num'] = occ_df.apply(func=xtal_num,axis=1)"
   ]
  },
  {
   "cell_type": "code",
   "execution_count": null,
   "metadata": {},
   "outputs": [],
   "source": []
  },
  {
   "cell_type": "markdown",
   "metadata": {},
   "source": [
    "Removed older structures in csv file."
   ]
  },
  {
   "cell_type": "code",
   "execution_count": null,
   "metadata": {},
   "outputs": [],
   "source": [
    "occ_new = pd.read_csv(\"/dls/science/groups/i04-1/elliot-dev/Work/NUDT7A_mass_spec_refinements/occ_quick.csv\")"
   ]
  },
  {
   "cell_type": "code",
   "execution_count": null,
   "metadata": {},
   "outputs": [],
   "source": [
    "occ_new.plot(x='state occupancy', y='Expected Ratio',kind='scatter')"
   ]
  },
  {
   "cell_type": "code",
   "execution_count": null,
   "metadata": {},
   "outputs": [],
   "source": [
    "plt.rcParams['figure.figsize'] = [10, 10]\n",
    "occ_new.plot(x='state occupancy', c='B_mean',kind='scatter',y='Expected Ratio',colormap='viridis', sharex=False)\n",
    "plt.savefig('occ_B_expected.png')\n"
   ]
  },
  {
   "cell_type": "markdown",
   "metadata": {},
   "source": [
    "Looking at the plots for earlier crystals, including all"
   ]
  },
  {
   "cell_type": "code",
   "execution_count": null,
   "metadata": {},
   "outputs": [],
   "source": [
    "plt.rcParams['figure.figsize'] = [10, 10]\n",
    "occ_df.plot(x='state occupancy', c='B_mean',kind='scatter',y='Expected Ratio',colormap='viridis', sharex=False)\n",
    "plt.savefig('occ_B_expected.png')"
   ]
  },
  {
   "cell_type": "markdown",
   "metadata": {},
   "source": [
    "Plotting with intended ratio"
   ]
  },
  {
   "cell_type": "code",
   "execution_count": null,
   "metadata": {},
   "outputs": [],
   "source": [
    "post_crystal_df"
   ]
  },
  {
   "cell_type": "code",
   "execution_count": null,
   "metadata": {},
   "outputs": [],
   "source": [
    "post_crystal_df.plot(x=\"intended_ratio\",y=\"weighted_area_ratio\",kind='scatter')"
   ]
  },
  {
   "cell_type": "code",
   "execution_count": null,
   "metadata": {},
   "outputs": [],
   "source": [
    "from scipy.optimize import curve_fit\n",
    "\n",
    "\n",
    "def fsigmoid(x, a, b):\n",
    "    return 1.0 / (1.0 + np.exp(-a*(x-b)))\n",
    "\n",
    "def expon(x, a, b):\n",
    "    return 1 - np.exp(-a*(x-b))\n",
    "\n",
    "# Sigmoidal fit\n",
    "\n",
    "popt, pcov = curve_fit(fsigmoid, \n",
    "                       ydata = post_crystal_df['intended_ratio'], \n",
    "                       xdata = post_crystal_df['calibrated_ratio'], \n",
    "                       method='dogbox')\n",
    "\n",
    "plt.plot(post_crystal_df['calibrated_ratio'], post_crystal_df['intended_ratio'], 'o', label='data')\n",
    "x = np.linspace(0, 1, 100)\n",
    "y = fsigmoid(x, *popt)\n",
    "plt.plot(x,y,label='fit')\n",
    "plt.ylim(0, 1.05)\n",
    "plt.legend(loc='best')\n",
    "plt.xlabel(\"intended ratio\")\n",
    "plt.ylabel(\"calibrated_ratio\")\n",
    "plt.show()\n",
    "\n",
    "# Exponential fit\n",
    "\n",
    "exp_popt, exp_pcov = curve_fit(expon, \n",
    "                       ydata = post_crystal_df['intended_ratio'], \n",
    "                       xdata = post_crystal_df['calibrated_ratio'], \n",
    "                       method='dogbox')\n",
    "\n",
    "plt.plot(post_crystal_df['calibrated_ratio'], post_crystal_df['intended_ratio'], 'o', label='data')\n",
    "x = np.linspace(0, 1, 100)\n",
    "y = expon(x, *exp_popt)\n",
    "plt.plot(x,y,label='fit')\n",
    "plt.ylim(0, 1.05)\n",
    "plt.legend(loc='best')\n",
    "plt.xlabel(\"intended ratio\")\n",
    "plt.ylabel(\"calibrated_ratio\")\n",
    "plt.show()\n",
    "\n",
    "# exponential fit forcing end points\n",
    "\n",
    "sigma = np.ones(len(post_crystal_df['intended_ratio']))\n",
    "sigma[[0, -1]] = 0.01\n",
    "\n",
    "popt, pcov = curve_fit(expon, \n",
    "                       ydata = sorted(post_crystal_df['intended_ratio']), \n",
    "                       xdata = sorted(post_crystal_df['calibrated_ratio']), \n",
    "                       method='dogbox',\n",
    "                       sigma=sigma)\n",
    "\n",
    "plt.plot(post_crystal_df['calibrated_ratio'], post_crystal_df['intended_ratio'], 'o', label='data')\n",
    "x = np.linspace(0, 1, 100)\n",
    "y = expon(x, *popt)\n",
    "plt.plot(x,y,label='fit')\n",
    "plt.ylim(0, 1.05)\n",
    "plt.legend(loc='best')\n",
    "plt.xlabel(\"intended ratio\")\n",
    "plt.ylabel(\"calibrated_ratio\")\n",
    "plt.show()\n",
    "\n",
    "# sigmoid fit forcing end points\n",
    "\n",
    "sigma = np.ones(len(post_crystal_df['intended_ratio']))\n",
    "sigma[[0, -1]] = 0.01\n",
    "\n",
    "popt, pcov = curve_fit(fsigmoid, \n",
    "                       ydata = sorted(post_crystal_df['intended_ratio']), \n",
    "                       xdata = sorted(post_crystal_df['calibrated_ratio']), \n",
    "                       method='dogbox',\n",
    "                       sigma=sigma)\n",
    "\n",
    "plt.plot(post_crystal_df['calibrated_ratio'], post_crystal_df['intended_ratio'], 'o', label='data')\n",
    "x = np.linspace(0, 1, 100)\n",
    "y = fsigmoid(x, *popt)\n",
    "plt.plot(x,y,label='fit')\n",
    "plt.ylim(0, 1.05)\n",
    "plt.legend(loc='best')\n",
    "plt.xlabel(\"intended ratio\")\n",
    "plt.ylabel(\"calibrated_ratio\")\n",
    "plt.show()"
   ]
  },
  {
   "cell_type": "code",
   "execution_count": null,
   "metadata": {},
   "outputs": [],
   "source": [
    "x"
   ]
  },
  {
   "cell_type": "code",
   "execution_count": null,
   "metadata": {},
   "outputs": [],
   "source": [
    "expon(0, *popt)"
   ]
  },
  {
   "cell_type": "code",
   "execution_count": null,
   "metadata": {},
   "outputs": [],
   "source": [
    "expon(0.1,*exp_popt)"
   ]
  },
  {
   "cell_type": "code",
   "execution_count": null,
   "metadata": {},
   "outputs": [],
   "source": [
    "occ_new['Calibrated_exp_curve_fit_ratio'] = expon(occ_new['Expected Ratio'], *exp_popt)"
   ]
  },
  {
   "cell_type": "code",
   "execution_count": null,
   "metadata": {},
   "outputs": [],
   "source": [
    "plt.rcParams['figure.figsize'] = [10, 10]\n",
    "occ_new.plot(x='state occupancy', c='B_mean',kind='scatter',y='Calibrated_exp_curve_fit_ratio',colormap='viridis', sharex=False)\n",
    "plt.savefig('occ_B_expected_calibrated.png')"
   ]
  },
  {
   "cell_type": "markdown",
   "metadata": {},
   "source": [
    "## Plotting mounted ratios, from / copy_atoms"
   ]
  },
  {
   "cell_type": "code",
   "execution_count": null,
   "metadata": {},
   "outputs": [],
   "source": [
    "occ_correct = \"/dls/science/groups/i04-1/elliot-dev/Work/NUDT7A_mass_spec_refinements/copy_atoms/occ_correct.csv\"\n",
    "occ_correct_df = pd.read_csv(occ_correct)\n",
    "\n",
    "occ_df = pd.merge(occ_correct_df, mounted_df, right_on='  Mounted Crystal ID ', left_on='crystal')\n",
    "occ_df = occ_df[occ_df.state==\"bound\"]\n",
    "occ_df = occ_df[occ_df.resname==\"LIG\"]\n",
    "occ_df = occ_df[occ_df['occupancy group']==5]"
   ]
  },
  {
   "cell_type": "code",
   "execution_count": null,
   "metadata": {},
   "outputs": [],
   "source": [
    "plt.rcParams['figure.figsize'] = [10, 10]\n",
    "occ_df.plot(x='state occupancy', c='B_mean',kind='scatter',y='Expected Ratio',colormap='viridis', sharex=False)\n",
    "plt.xlim(0,1)\n",
    "plt.ylim(0,1)\n",
    "plt.savefig('copy_atoms_occ_B_expected.png')"
   ]
  },
  {
   "cell_type": "code",
   "execution_count": null,
   "metadata": {},
   "outputs": [],
   "source": [
    "occ_df['Calibrated_exp_curve_fit_ratio'] = expon(occ_df['Expected Ratio'], *exp_popt)"
   ]
  },
  {
   "cell_type": "code",
   "execution_count": null,
   "metadata": {},
   "outputs": [],
   "source": [
    "plt.rcParams['figure.figsize'] = [10, 10]\n",
    "occ_df.plot(x='state occupancy', c='B_mean',kind='scatter',y='Calibrated_exp_curve_fit_ratio',colormap='viridis', sharex=False)\n",
    "plt.xlim(0,1)\n",
    "plt.ylim(0,1)\n",
    "plt.savefig('copy_atoms_occ_B_calibrated.png')"
   ]
  },
  {
   "cell_type": "code",
   "execution_count": null,
   "metadata": {},
   "outputs": [],
   "source": [
    "occ_df"
   ]
  },
  {
   "cell_type": "markdown",
   "metadata": {},
   "source": [
    "## Plotting Exhaustive search occupancy"
   ]
  },
  {
   "cell_type": "code",
   "execution_count": null,
   "metadata": {},
   "outputs": [],
   "source": [
    "minima_csv = \"/dls/science/groups/i04-1/elliot-dev/Work\"\\\n",
    "        \"/NUDT7A_mass_spec_refinements/copy_atoms/exhaustive/exhaustive_minima.csv\"\n",
    "\n",
    "minima_df = pd.read_csv(minima_csv)"
   ]
  },
  {
   "cell_type": "code",
   "execution_count": null,
   "metadata": {},
   "outputs": [],
   "source": [
    "minima_df"
   ]
  },
  {
   "cell_type": "code",
   "execution_count": null,
   "metadata": {},
   "outputs": [],
   "source": [
    "occ_df = pd.merge(minima_df, mounted_df, right_on='  Mounted Crystal ID ', left_on='crystal')"
   ]
  },
  {
   "cell_type": "code",
   "execution_count": null,
   "metadata": {},
   "outputs": [],
   "source": [
    "occ_df['Calibrated_exp_curve_fit_ratio'] = expon(occ_df['Expected Ratio'], *exp_popt)"
   ]
  },
  {
   "cell_type": "code",
   "execution_count": null,
   "metadata": {},
   "outputs": [],
   "source": [
    "occ_df"
   ]
  },
  {
   "cell_type": "code",
   "execution_count": null,
   "metadata": {},
   "outputs": [],
   "source": [
    "plt.rcParams['figure.figsize'] = [10, 10]\n",
    "occ_df.plot(x='occupancy', c='b_factor',kind='scatter',y='Calibrated_exp_curve_fit_ratio',colormap='viridis', sharex=False)\n",
    "plt.xlim(0,1)\n",
    "plt.ylim(0,1)\n",
    "plt.savefig('exhaustive_occ_B_calibrated.png')"
   ]
  },
  {
   "cell_type": "code",
   "execution_count": null,
   "metadata": {},
   "outputs": [],
   "source": [
    "plt.rcParams['figure.figsize'] = [10, 10]\n",
    "occ_df.plot(x='occupancy', c='b_factor',kind='scatter',y='Expected Ratio',colormap='viridis', sharex=False)\n",
    "plt.xlim(0,1)\n",
    "plt.ylim(0,1)\n",
    "plt.savefig('exhaustive_occ_B.png')"
   ]
  },
  {
   "cell_type": "code",
   "execution_count": null,
   "metadata": {},
   "outputs": [],
   "source": []
  }
 ],
 "metadata": {
  "kernelspec": {
   "display_name": "Python 3",
   "language": "python",
   "name": "python3"
  },
  "language_info": {
   "codemirror_mode": {
    "name": "ipython",
    "version": 3
   },
   "file_extension": ".py",
   "mimetype": "text/x-python",
   "name": "python",
   "nbconvert_exporter": "python",
   "pygments_lexer": "ipython3",
   "version": "3.6.7"
  }
 },
 "nbformat": 4,
 "nbformat_minor": 1
}
